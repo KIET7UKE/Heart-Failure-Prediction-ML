{
  "nbformat": 4,
  "nbformat_minor": 0,
  "metadata": {
    "colab": {
      "provenance": [],
      "authorship_tag": "ABX9TyMAK2o/zOwXR5tnun7S5GCu",
      "include_colab_link": true
    },
    "kernelspec": {
      "name": "python3",
      "display_name": "Python 3"
    },
    "language_info": {
      "name": "python"
    }
  },
  "cells": [
    {
      "cell_type": "markdown",
      "metadata": {
        "id": "view-in-github",
        "colab_type": "text"
      },
      "source": [
        "<a href=\"https://colab.research.google.com/github/KIET7UKE/Heart-Failure-Prediction-ML/blob/main/HeartPredctionFailureFinal.ipynb\" target=\"_parent\"><img src=\"https://colab.research.google.com/assets/colab-badge.svg\" alt=\"Open In Colab\"/></a>"
      ]
    },
    {
      "cell_type": "markdown",
      "source": [
        "# Import the required libraries"
      ],
      "metadata": {
        "id": "McxKDz9sb5s6"
      }
    },
    {
      "cell_type": "code",
      "execution_count": 150,
      "metadata": {
        "id": "5HErLZUuhZ_H"
      },
      "outputs": [],
      "source": [
        "import sys\n",
        "\n",
        "sys.path.append(\"../\")\n",
        "\n",
        "import matplotlib.pyplot as plt\n",
        "import numpy as np\n",
        "import pandas as pd\n",
        "import seaborn as sns\n",
        "import xgboost as xgb\n",
        "\n",
        "from sklearn.ensemble import RandomForestClassifier\n",
        "from sklearn.feature_extraction import DictVectorizer\n",
        "from sklearn.linear_model import LogisticRegression\n",
        "from sklearn.model_selection import train_test_split, KFold\n",
        "from sklearn.metrics import auc, roc_auc_score, roc_curve, confusion_matrix, classification_report\n",
        "from sklearn.tree import DecisionTreeClassifier\n",
        "from sklearn.metrics import accuracy_score, confusion_matrix, classification_report,plot_confusion_matrix\n",
        "from utils import plot_roc_curve\n",
        "from sklearn.svm import SVC\n",
        "from sklearn.neighbors import KNeighborsClassifier"
      ]
    },
    {
      "cell_type": "markdown",
      "source": [
        "# Import the Dataset"
      ],
      "metadata": {
        "id": "3DF3MhwPYhLv"
      }
    },
    {
      "cell_type": "code",
      "source": [
        "df = pd.read_csv('heart.csv')\n",
        "df.head(10)"
      ],
      "metadata": {
        "colab": {
          "base_uri": "https://localhost:8080/",
          "height": 363
        },
        "id": "0TJRQACFeXag",
        "outputId": "552a055d-7ab7-492d-d1cd-91b08fea6309"
      },
      "execution_count": 151,
      "outputs": [
        {
          "output_type": "execute_result",
          "data": {
            "text/plain": [
              "   Age Sex ChestPainType  RestingBP  Cholesterol  FastingBS RestingECG  MaxHR  \\\n",
              "0   40   M           ATA        140          289          0     Normal    172   \n",
              "1   49   F           NAP        160          180          0     Normal    156   \n",
              "2   37   M           ATA        130          283          0         ST     98   \n",
              "3   48   F           ASY        138          214          0     Normal    108   \n",
              "4   54   M           NAP        150          195          0     Normal    122   \n",
              "5   39   M           NAP        120          339          0     Normal    170   \n",
              "6   45   F           ATA        130          237          0     Normal    170   \n",
              "7   54   M           ATA        110          208          0     Normal    142   \n",
              "8   37   M           ASY        140          207          0     Normal    130   \n",
              "9   48   F           ATA        120          284          0     Normal    120   \n",
              "\n",
              "  ExerciseAngina  Oldpeak ST_Slope  HeartDisease  \n",
              "0              N      0.0       Up             0  \n",
              "1              N      1.0     Flat             1  \n",
              "2              N      0.0       Up             0  \n",
              "3              Y      1.5     Flat             1  \n",
              "4              N      0.0       Up             0  \n",
              "5              N      0.0       Up             0  \n",
              "6              N      0.0       Up             0  \n",
              "7              N      0.0       Up             0  \n",
              "8              Y      1.5     Flat             1  \n",
              "9              N      0.0       Up             0  "
            ],
            "text/html": [
              "\n",
              "  <div id=\"df-c1bc1104-70cb-4ee5-bc62-6b7dacc4e06e\">\n",
              "    <div class=\"colab-df-container\">\n",
              "      <div>\n",
              "<style scoped>\n",
              "    .dataframe tbody tr th:only-of-type {\n",
              "        vertical-align: middle;\n",
              "    }\n",
              "\n",
              "    .dataframe tbody tr th {\n",
              "        vertical-align: top;\n",
              "    }\n",
              "\n",
              "    .dataframe thead th {\n",
              "        text-align: right;\n",
              "    }\n",
              "</style>\n",
              "<table border=\"1\" class=\"dataframe\">\n",
              "  <thead>\n",
              "    <tr style=\"text-align: right;\">\n",
              "      <th></th>\n",
              "      <th>Age</th>\n",
              "      <th>Sex</th>\n",
              "      <th>ChestPainType</th>\n",
              "      <th>RestingBP</th>\n",
              "      <th>Cholesterol</th>\n",
              "      <th>FastingBS</th>\n",
              "      <th>RestingECG</th>\n",
              "      <th>MaxHR</th>\n",
              "      <th>ExerciseAngina</th>\n",
              "      <th>Oldpeak</th>\n",
              "      <th>ST_Slope</th>\n",
              "      <th>HeartDisease</th>\n",
              "    </tr>\n",
              "  </thead>\n",
              "  <tbody>\n",
              "    <tr>\n",
              "      <th>0</th>\n",
              "      <td>40</td>\n",
              "      <td>M</td>\n",
              "      <td>ATA</td>\n",
              "      <td>140</td>\n",
              "      <td>289</td>\n",
              "      <td>0</td>\n",
              "      <td>Normal</td>\n",
              "      <td>172</td>\n",
              "      <td>N</td>\n",
              "      <td>0.0</td>\n",
              "      <td>Up</td>\n",
              "      <td>0</td>\n",
              "    </tr>\n",
              "    <tr>\n",
              "      <th>1</th>\n",
              "      <td>49</td>\n",
              "      <td>F</td>\n",
              "      <td>NAP</td>\n",
              "      <td>160</td>\n",
              "      <td>180</td>\n",
              "      <td>0</td>\n",
              "      <td>Normal</td>\n",
              "      <td>156</td>\n",
              "      <td>N</td>\n",
              "      <td>1.0</td>\n",
              "      <td>Flat</td>\n",
              "      <td>1</td>\n",
              "    </tr>\n",
              "    <tr>\n",
              "      <th>2</th>\n",
              "      <td>37</td>\n",
              "      <td>M</td>\n",
              "      <td>ATA</td>\n",
              "      <td>130</td>\n",
              "      <td>283</td>\n",
              "      <td>0</td>\n",
              "      <td>ST</td>\n",
              "      <td>98</td>\n",
              "      <td>N</td>\n",
              "      <td>0.0</td>\n",
              "      <td>Up</td>\n",
              "      <td>0</td>\n",
              "    </tr>\n",
              "    <tr>\n",
              "      <th>3</th>\n",
              "      <td>48</td>\n",
              "      <td>F</td>\n",
              "      <td>ASY</td>\n",
              "      <td>138</td>\n",
              "      <td>214</td>\n",
              "      <td>0</td>\n",
              "      <td>Normal</td>\n",
              "      <td>108</td>\n",
              "      <td>Y</td>\n",
              "      <td>1.5</td>\n",
              "      <td>Flat</td>\n",
              "      <td>1</td>\n",
              "    </tr>\n",
              "    <tr>\n",
              "      <th>4</th>\n",
              "      <td>54</td>\n",
              "      <td>M</td>\n",
              "      <td>NAP</td>\n",
              "      <td>150</td>\n",
              "      <td>195</td>\n",
              "      <td>0</td>\n",
              "      <td>Normal</td>\n",
              "      <td>122</td>\n",
              "      <td>N</td>\n",
              "      <td>0.0</td>\n",
              "      <td>Up</td>\n",
              "      <td>0</td>\n",
              "    </tr>\n",
              "    <tr>\n",
              "      <th>5</th>\n",
              "      <td>39</td>\n",
              "      <td>M</td>\n",
              "      <td>NAP</td>\n",
              "      <td>120</td>\n",
              "      <td>339</td>\n",
              "      <td>0</td>\n",
              "      <td>Normal</td>\n",
              "      <td>170</td>\n",
              "      <td>N</td>\n",
              "      <td>0.0</td>\n",
              "      <td>Up</td>\n",
              "      <td>0</td>\n",
              "    </tr>\n",
              "    <tr>\n",
              "      <th>6</th>\n",
              "      <td>45</td>\n",
              "      <td>F</td>\n",
              "      <td>ATA</td>\n",
              "      <td>130</td>\n",
              "      <td>237</td>\n",
              "      <td>0</td>\n",
              "      <td>Normal</td>\n",
              "      <td>170</td>\n",
              "      <td>N</td>\n",
              "      <td>0.0</td>\n",
              "      <td>Up</td>\n",
              "      <td>0</td>\n",
              "    </tr>\n",
              "    <tr>\n",
              "      <th>7</th>\n",
              "      <td>54</td>\n",
              "      <td>M</td>\n",
              "      <td>ATA</td>\n",
              "      <td>110</td>\n",
              "      <td>208</td>\n",
              "      <td>0</td>\n",
              "      <td>Normal</td>\n",
              "      <td>142</td>\n",
              "      <td>N</td>\n",
              "      <td>0.0</td>\n",
              "      <td>Up</td>\n",
              "      <td>0</td>\n",
              "    </tr>\n",
              "    <tr>\n",
              "      <th>8</th>\n",
              "      <td>37</td>\n",
              "      <td>M</td>\n",
              "      <td>ASY</td>\n",
              "      <td>140</td>\n",
              "      <td>207</td>\n",
              "      <td>0</td>\n",
              "      <td>Normal</td>\n",
              "      <td>130</td>\n",
              "      <td>Y</td>\n",
              "      <td>1.5</td>\n",
              "      <td>Flat</td>\n",
              "      <td>1</td>\n",
              "    </tr>\n",
              "    <tr>\n",
              "      <th>9</th>\n",
              "      <td>48</td>\n",
              "      <td>F</td>\n",
              "      <td>ATA</td>\n",
              "      <td>120</td>\n",
              "      <td>284</td>\n",
              "      <td>0</td>\n",
              "      <td>Normal</td>\n",
              "      <td>120</td>\n",
              "      <td>N</td>\n",
              "      <td>0.0</td>\n",
              "      <td>Up</td>\n",
              "      <td>0</td>\n",
              "    </tr>\n",
              "  </tbody>\n",
              "</table>\n",
              "</div>\n",
              "      <button class=\"colab-df-convert\" onclick=\"convertToInteractive('df-c1bc1104-70cb-4ee5-bc62-6b7dacc4e06e')\"\n",
              "              title=\"Convert this dataframe to an interactive table.\"\n",
              "              style=\"display:none;\">\n",
              "        \n",
              "  <svg xmlns=\"http://www.w3.org/2000/svg\" height=\"24px\"viewBox=\"0 0 24 24\"\n",
              "       width=\"24px\">\n",
              "    <path d=\"M0 0h24v24H0V0z\" fill=\"none\"/>\n",
              "    <path d=\"M18.56 5.44l.94 2.06.94-2.06 2.06-.94-2.06-.94-.94-2.06-.94 2.06-2.06.94zm-11 1L8.5 8.5l.94-2.06 2.06-.94-2.06-.94L8.5 2.5l-.94 2.06-2.06.94zm10 10l.94 2.06.94-2.06 2.06-.94-2.06-.94-.94-2.06-.94 2.06-2.06.94z\"/><path d=\"M17.41 7.96l-1.37-1.37c-.4-.4-.92-.59-1.43-.59-.52 0-1.04.2-1.43.59L10.3 9.45l-7.72 7.72c-.78.78-.78 2.05 0 2.83L4 21.41c.39.39.9.59 1.41.59.51 0 1.02-.2 1.41-.59l7.78-7.78 2.81-2.81c.8-.78.8-2.07 0-2.86zM5.41 20L4 18.59l7.72-7.72 1.47 1.35L5.41 20z\"/>\n",
              "  </svg>\n",
              "      </button>\n",
              "      \n",
              "  <style>\n",
              "    .colab-df-container {\n",
              "      display:flex;\n",
              "      flex-wrap:wrap;\n",
              "      gap: 12px;\n",
              "    }\n",
              "\n",
              "    .colab-df-convert {\n",
              "      background-color: #E8F0FE;\n",
              "      border: none;\n",
              "      border-radius: 50%;\n",
              "      cursor: pointer;\n",
              "      display: none;\n",
              "      fill: #1967D2;\n",
              "      height: 32px;\n",
              "      padding: 0 0 0 0;\n",
              "      width: 32px;\n",
              "    }\n",
              "\n",
              "    .colab-df-convert:hover {\n",
              "      background-color: #E2EBFA;\n",
              "      box-shadow: 0px 1px 2px rgba(60, 64, 67, 0.3), 0px 1px 3px 1px rgba(60, 64, 67, 0.15);\n",
              "      fill: #174EA6;\n",
              "    }\n",
              "\n",
              "    [theme=dark] .colab-df-convert {\n",
              "      background-color: #3B4455;\n",
              "      fill: #D2E3FC;\n",
              "    }\n",
              "\n",
              "    [theme=dark] .colab-df-convert:hover {\n",
              "      background-color: #434B5C;\n",
              "      box-shadow: 0px 1px 3px 1px rgba(0, 0, 0, 0.15);\n",
              "      filter: drop-shadow(0px 1px 2px rgba(0, 0, 0, 0.3));\n",
              "      fill: #FFFFFF;\n",
              "    }\n",
              "  </style>\n",
              "\n",
              "      <script>\n",
              "        const buttonEl =\n",
              "          document.querySelector('#df-c1bc1104-70cb-4ee5-bc62-6b7dacc4e06e button.colab-df-convert');\n",
              "        buttonEl.style.display =\n",
              "          google.colab.kernel.accessAllowed ? 'block' : 'none';\n",
              "\n",
              "        async function convertToInteractive(key) {\n",
              "          const element = document.querySelector('#df-c1bc1104-70cb-4ee5-bc62-6b7dacc4e06e');\n",
              "          const dataTable =\n",
              "            await google.colab.kernel.invokeFunction('convertToInteractive',\n",
              "                                                     [key], {});\n",
              "          if (!dataTable) return;\n",
              "\n",
              "          const docLinkHtml = 'Like what you see? Visit the ' +\n",
              "            '<a target=\"_blank\" href=https://colab.research.google.com/notebooks/data_table.ipynb>data table notebook</a>'\n",
              "            + ' to learn more about interactive tables.';\n",
              "          element.innerHTML = '';\n",
              "          dataTable['output_type'] = 'display_data';\n",
              "          await google.colab.output.renderOutput(dataTable, element);\n",
              "          const docLink = document.createElement('div');\n",
              "          docLink.innerHTML = docLinkHtml;\n",
              "          element.appendChild(docLink);\n",
              "        }\n",
              "      </script>\n",
              "    </div>\n",
              "  </div>\n",
              "  "
            ]
          },
          "metadata": {},
          "execution_count": 151
        }
      ]
    },
    {
      "cell_type": "code",
      "source": [
        "df.head()"
      ],
      "metadata": {
        "colab": {
          "base_uri": "https://localhost:8080/",
          "height": 206
        },
        "id": "7sy0GsEtZNJI",
        "outputId": "aa90bfa2-3018-4423-8413-effc06ee8a80"
      },
      "execution_count": 152,
      "outputs": [
        {
          "output_type": "execute_result",
          "data": {
            "text/plain": [
              "   Age Sex ChestPainType  RestingBP  Cholesterol  FastingBS RestingECG  MaxHR  \\\n",
              "0   40   M           ATA        140          289          0     Normal    172   \n",
              "1   49   F           NAP        160          180          0     Normal    156   \n",
              "2   37   M           ATA        130          283          0         ST     98   \n",
              "3   48   F           ASY        138          214          0     Normal    108   \n",
              "4   54   M           NAP        150          195          0     Normal    122   \n",
              "\n",
              "  ExerciseAngina  Oldpeak ST_Slope  HeartDisease  \n",
              "0              N      0.0       Up             0  \n",
              "1              N      1.0     Flat             1  \n",
              "2              N      0.0       Up             0  \n",
              "3              Y      1.5     Flat             1  \n",
              "4              N      0.0       Up             0  "
            ],
            "text/html": [
              "\n",
              "  <div id=\"df-cdfb2ef2-cf6d-4f8a-8ae0-74e7bbee183c\">\n",
              "    <div class=\"colab-df-container\">\n",
              "      <div>\n",
              "<style scoped>\n",
              "    .dataframe tbody tr th:only-of-type {\n",
              "        vertical-align: middle;\n",
              "    }\n",
              "\n",
              "    .dataframe tbody tr th {\n",
              "        vertical-align: top;\n",
              "    }\n",
              "\n",
              "    .dataframe thead th {\n",
              "        text-align: right;\n",
              "    }\n",
              "</style>\n",
              "<table border=\"1\" class=\"dataframe\">\n",
              "  <thead>\n",
              "    <tr style=\"text-align: right;\">\n",
              "      <th></th>\n",
              "      <th>Age</th>\n",
              "      <th>Sex</th>\n",
              "      <th>ChestPainType</th>\n",
              "      <th>RestingBP</th>\n",
              "      <th>Cholesterol</th>\n",
              "      <th>FastingBS</th>\n",
              "      <th>RestingECG</th>\n",
              "      <th>MaxHR</th>\n",
              "      <th>ExerciseAngina</th>\n",
              "      <th>Oldpeak</th>\n",
              "      <th>ST_Slope</th>\n",
              "      <th>HeartDisease</th>\n",
              "    </tr>\n",
              "  </thead>\n",
              "  <tbody>\n",
              "    <tr>\n",
              "      <th>0</th>\n",
              "      <td>40</td>\n",
              "      <td>M</td>\n",
              "      <td>ATA</td>\n",
              "      <td>140</td>\n",
              "      <td>289</td>\n",
              "      <td>0</td>\n",
              "      <td>Normal</td>\n",
              "      <td>172</td>\n",
              "      <td>N</td>\n",
              "      <td>0.0</td>\n",
              "      <td>Up</td>\n",
              "      <td>0</td>\n",
              "    </tr>\n",
              "    <tr>\n",
              "      <th>1</th>\n",
              "      <td>49</td>\n",
              "      <td>F</td>\n",
              "      <td>NAP</td>\n",
              "      <td>160</td>\n",
              "      <td>180</td>\n",
              "      <td>0</td>\n",
              "      <td>Normal</td>\n",
              "      <td>156</td>\n",
              "      <td>N</td>\n",
              "      <td>1.0</td>\n",
              "      <td>Flat</td>\n",
              "      <td>1</td>\n",
              "    </tr>\n",
              "    <tr>\n",
              "      <th>2</th>\n",
              "      <td>37</td>\n",
              "      <td>M</td>\n",
              "      <td>ATA</td>\n",
              "      <td>130</td>\n",
              "      <td>283</td>\n",
              "      <td>0</td>\n",
              "      <td>ST</td>\n",
              "      <td>98</td>\n",
              "      <td>N</td>\n",
              "      <td>0.0</td>\n",
              "      <td>Up</td>\n",
              "      <td>0</td>\n",
              "    </tr>\n",
              "    <tr>\n",
              "      <th>3</th>\n",
              "      <td>48</td>\n",
              "      <td>F</td>\n",
              "      <td>ASY</td>\n",
              "      <td>138</td>\n",
              "      <td>214</td>\n",
              "      <td>0</td>\n",
              "      <td>Normal</td>\n",
              "      <td>108</td>\n",
              "      <td>Y</td>\n",
              "      <td>1.5</td>\n",
              "      <td>Flat</td>\n",
              "      <td>1</td>\n",
              "    </tr>\n",
              "    <tr>\n",
              "      <th>4</th>\n",
              "      <td>54</td>\n",
              "      <td>M</td>\n",
              "      <td>NAP</td>\n",
              "      <td>150</td>\n",
              "      <td>195</td>\n",
              "      <td>0</td>\n",
              "      <td>Normal</td>\n",
              "      <td>122</td>\n",
              "      <td>N</td>\n",
              "      <td>0.0</td>\n",
              "      <td>Up</td>\n",
              "      <td>0</td>\n",
              "    </tr>\n",
              "  </tbody>\n",
              "</table>\n",
              "</div>\n",
              "      <button class=\"colab-df-convert\" onclick=\"convertToInteractive('df-cdfb2ef2-cf6d-4f8a-8ae0-74e7bbee183c')\"\n",
              "              title=\"Convert this dataframe to an interactive table.\"\n",
              "              style=\"display:none;\">\n",
              "        \n",
              "  <svg xmlns=\"http://www.w3.org/2000/svg\" height=\"24px\"viewBox=\"0 0 24 24\"\n",
              "       width=\"24px\">\n",
              "    <path d=\"M0 0h24v24H0V0z\" fill=\"none\"/>\n",
              "    <path d=\"M18.56 5.44l.94 2.06.94-2.06 2.06-.94-2.06-.94-.94-2.06-.94 2.06-2.06.94zm-11 1L8.5 8.5l.94-2.06 2.06-.94-2.06-.94L8.5 2.5l-.94 2.06-2.06.94zm10 10l.94 2.06.94-2.06 2.06-.94-2.06-.94-.94-2.06-.94 2.06-2.06.94z\"/><path d=\"M17.41 7.96l-1.37-1.37c-.4-.4-.92-.59-1.43-.59-.52 0-1.04.2-1.43.59L10.3 9.45l-7.72 7.72c-.78.78-.78 2.05 0 2.83L4 21.41c.39.39.9.59 1.41.59.51 0 1.02-.2 1.41-.59l7.78-7.78 2.81-2.81c.8-.78.8-2.07 0-2.86zM5.41 20L4 18.59l7.72-7.72 1.47 1.35L5.41 20z\"/>\n",
              "  </svg>\n",
              "      </button>\n",
              "      \n",
              "  <style>\n",
              "    .colab-df-container {\n",
              "      display:flex;\n",
              "      flex-wrap:wrap;\n",
              "      gap: 12px;\n",
              "    }\n",
              "\n",
              "    .colab-df-convert {\n",
              "      background-color: #E8F0FE;\n",
              "      border: none;\n",
              "      border-radius: 50%;\n",
              "      cursor: pointer;\n",
              "      display: none;\n",
              "      fill: #1967D2;\n",
              "      height: 32px;\n",
              "      padding: 0 0 0 0;\n",
              "      width: 32px;\n",
              "    }\n",
              "\n",
              "    .colab-df-convert:hover {\n",
              "      background-color: #E2EBFA;\n",
              "      box-shadow: 0px 1px 2px rgba(60, 64, 67, 0.3), 0px 1px 3px 1px rgba(60, 64, 67, 0.15);\n",
              "      fill: #174EA6;\n",
              "    }\n",
              "\n",
              "    [theme=dark] .colab-df-convert {\n",
              "      background-color: #3B4455;\n",
              "      fill: #D2E3FC;\n",
              "    }\n",
              "\n",
              "    [theme=dark] .colab-df-convert:hover {\n",
              "      background-color: #434B5C;\n",
              "      box-shadow: 0px 1px 3px 1px rgba(0, 0, 0, 0.15);\n",
              "      filter: drop-shadow(0px 1px 2px rgba(0, 0, 0, 0.3));\n",
              "      fill: #FFFFFF;\n",
              "    }\n",
              "  </style>\n",
              "\n",
              "      <script>\n",
              "        const buttonEl =\n",
              "          document.querySelector('#df-cdfb2ef2-cf6d-4f8a-8ae0-74e7bbee183c button.colab-df-convert');\n",
              "        buttonEl.style.display =\n",
              "          google.colab.kernel.accessAllowed ? 'block' : 'none';\n",
              "\n",
              "        async function convertToInteractive(key) {\n",
              "          const element = document.querySelector('#df-cdfb2ef2-cf6d-4f8a-8ae0-74e7bbee183c');\n",
              "          const dataTable =\n",
              "            await google.colab.kernel.invokeFunction('convertToInteractive',\n",
              "                                                     [key], {});\n",
              "          if (!dataTable) return;\n",
              "\n",
              "          const docLinkHtml = 'Like what you see? Visit the ' +\n",
              "            '<a target=\"_blank\" href=https://colab.research.google.com/notebooks/data_table.ipynb>data table notebook</a>'\n",
              "            + ' to learn more about interactive tables.';\n",
              "          element.innerHTML = '';\n",
              "          dataTable['output_type'] = 'display_data';\n",
              "          await google.colab.output.renderOutput(dataTable, element);\n",
              "          const docLink = document.createElement('div');\n",
              "          docLink.innerHTML = docLinkHtml;\n",
              "          element.appendChild(docLink);\n",
              "        }\n",
              "      </script>\n",
              "    </div>\n",
              "  </div>\n",
              "  "
            ]
          },
          "metadata": {},
          "execution_count": 152
        }
      ]
    },
    {
      "cell_type": "markdown",
      "source": [
        "Changing the names of the columns of the dataset for a better format and lower case."
      ],
      "metadata": {
        "id": "Zpn50zLJZTVf"
      }
    },
    {
      "cell_type": "code",
      "source": [
        "new_columns_names = [\"age\",\n",
        "                     \"sex\",\n",
        "                     \"chest_pain_type\",\n",
        "                     \"resting_bp\",\n",
        "                     \"cholesterol\",\n",
        "                     \"fasting_bs\",\n",
        "                     \"resting_ecg\",\n",
        "                     \"max_hr\",\n",
        "                     \"exercise_angina\",\n",
        "                     \"oldpeak\",\n",
        "                     \"st_slope\",\n",
        "                     \"heart_disease\"]"
      ],
      "metadata": {
        "id": "vt2HBFHVZPFW"
      },
      "execution_count": 153,
      "outputs": []
    },
    {
      "cell_type": "code",
      "source": [
        "df.columns = new_columns_names"
      ],
      "metadata": {
        "id": "EPws6UnNZZW-"
      },
      "execution_count": 154,
      "outputs": []
    },
    {
      "cell_type": "code",
      "source": [
        "df.head()"
      ],
      "metadata": {
        "colab": {
          "base_uri": "https://localhost:8080/",
          "height": 206
        },
        "id": "wbI4oaG9Zc_Y",
        "outputId": "c2ec45e6-8e70-4521-db12-2487dbc7d444"
      },
      "execution_count": 155,
      "outputs": [
        {
          "output_type": "execute_result",
          "data": {
            "text/plain": [
              "   age sex chest_pain_type  resting_bp  cholesterol  fasting_bs resting_ecg  \\\n",
              "0   40   M             ATA         140          289           0      Normal   \n",
              "1   49   F             NAP         160          180           0      Normal   \n",
              "2   37   M             ATA         130          283           0          ST   \n",
              "3   48   F             ASY         138          214           0      Normal   \n",
              "4   54   M             NAP         150          195           0      Normal   \n",
              "\n",
              "   max_hr exercise_angina  oldpeak st_slope  heart_disease  \n",
              "0     172               N      0.0       Up              0  \n",
              "1     156               N      1.0     Flat              1  \n",
              "2      98               N      0.0       Up              0  \n",
              "3     108               Y      1.5     Flat              1  \n",
              "4     122               N      0.0       Up              0  "
            ],
            "text/html": [
              "\n",
              "  <div id=\"df-7c462d18-80e8-46ad-92ae-3cee54fea82a\">\n",
              "    <div class=\"colab-df-container\">\n",
              "      <div>\n",
              "<style scoped>\n",
              "    .dataframe tbody tr th:only-of-type {\n",
              "        vertical-align: middle;\n",
              "    }\n",
              "\n",
              "    .dataframe tbody tr th {\n",
              "        vertical-align: top;\n",
              "    }\n",
              "\n",
              "    .dataframe thead th {\n",
              "        text-align: right;\n",
              "    }\n",
              "</style>\n",
              "<table border=\"1\" class=\"dataframe\">\n",
              "  <thead>\n",
              "    <tr style=\"text-align: right;\">\n",
              "      <th></th>\n",
              "      <th>age</th>\n",
              "      <th>sex</th>\n",
              "      <th>chest_pain_type</th>\n",
              "      <th>resting_bp</th>\n",
              "      <th>cholesterol</th>\n",
              "      <th>fasting_bs</th>\n",
              "      <th>resting_ecg</th>\n",
              "      <th>max_hr</th>\n",
              "      <th>exercise_angina</th>\n",
              "      <th>oldpeak</th>\n",
              "      <th>st_slope</th>\n",
              "      <th>heart_disease</th>\n",
              "    </tr>\n",
              "  </thead>\n",
              "  <tbody>\n",
              "    <tr>\n",
              "      <th>0</th>\n",
              "      <td>40</td>\n",
              "      <td>M</td>\n",
              "      <td>ATA</td>\n",
              "      <td>140</td>\n",
              "      <td>289</td>\n",
              "      <td>0</td>\n",
              "      <td>Normal</td>\n",
              "      <td>172</td>\n",
              "      <td>N</td>\n",
              "      <td>0.0</td>\n",
              "      <td>Up</td>\n",
              "      <td>0</td>\n",
              "    </tr>\n",
              "    <tr>\n",
              "      <th>1</th>\n",
              "      <td>49</td>\n",
              "      <td>F</td>\n",
              "      <td>NAP</td>\n",
              "      <td>160</td>\n",
              "      <td>180</td>\n",
              "      <td>0</td>\n",
              "      <td>Normal</td>\n",
              "      <td>156</td>\n",
              "      <td>N</td>\n",
              "      <td>1.0</td>\n",
              "      <td>Flat</td>\n",
              "      <td>1</td>\n",
              "    </tr>\n",
              "    <tr>\n",
              "      <th>2</th>\n",
              "      <td>37</td>\n",
              "      <td>M</td>\n",
              "      <td>ATA</td>\n",
              "      <td>130</td>\n",
              "      <td>283</td>\n",
              "      <td>0</td>\n",
              "      <td>ST</td>\n",
              "      <td>98</td>\n",
              "      <td>N</td>\n",
              "      <td>0.0</td>\n",
              "      <td>Up</td>\n",
              "      <td>0</td>\n",
              "    </tr>\n",
              "    <tr>\n",
              "      <th>3</th>\n",
              "      <td>48</td>\n",
              "      <td>F</td>\n",
              "      <td>ASY</td>\n",
              "      <td>138</td>\n",
              "      <td>214</td>\n",
              "      <td>0</td>\n",
              "      <td>Normal</td>\n",
              "      <td>108</td>\n",
              "      <td>Y</td>\n",
              "      <td>1.5</td>\n",
              "      <td>Flat</td>\n",
              "      <td>1</td>\n",
              "    </tr>\n",
              "    <tr>\n",
              "      <th>4</th>\n",
              "      <td>54</td>\n",
              "      <td>M</td>\n",
              "      <td>NAP</td>\n",
              "      <td>150</td>\n",
              "      <td>195</td>\n",
              "      <td>0</td>\n",
              "      <td>Normal</td>\n",
              "      <td>122</td>\n",
              "      <td>N</td>\n",
              "      <td>0.0</td>\n",
              "      <td>Up</td>\n",
              "      <td>0</td>\n",
              "    </tr>\n",
              "  </tbody>\n",
              "</table>\n",
              "</div>\n",
              "      <button class=\"colab-df-convert\" onclick=\"convertToInteractive('df-7c462d18-80e8-46ad-92ae-3cee54fea82a')\"\n",
              "              title=\"Convert this dataframe to an interactive table.\"\n",
              "              style=\"display:none;\">\n",
              "        \n",
              "  <svg xmlns=\"http://www.w3.org/2000/svg\" height=\"24px\"viewBox=\"0 0 24 24\"\n",
              "       width=\"24px\">\n",
              "    <path d=\"M0 0h24v24H0V0z\" fill=\"none\"/>\n",
              "    <path d=\"M18.56 5.44l.94 2.06.94-2.06 2.06-.94-2.06-.94-.94-2.06-.94 2.06-2.06.94zm-11 1L8.5 8.5l.94-2.06 2.06-.94-2.06-.94L8.5 2.5l-.94 2.06-2.06.94zm10 10l.94 2.06.94-2.06 2.06-.94-2.06-.94-.94-2.06-.94 2.06-2.06.94z\"/><path d=\"M17.41 7.96l-1.37-1.37c-.4-.4-.92-.59-1.43-.59-.52 0-1.04.2-1.43.59L10.3 9.45l-7.72 7.72c-.78.78-.78 2.05 0 2.83L4 21.41c.39.39.9.59 1.41.59.51 0 1.02-.2 1.41-.59l7.78-7.78 2.81-2.81c.8-.78.8-2.07 0-2.86zM5.41 20L4 18.59l7.72-7.72 1.47 1.35L5.41 20z\"/>\n",
              "  </svg>\n",
              "      </button>\n",
              "      \n",
              "  <style>\n",
              "    .colab-df-container {\n",
              "      display:flex;\n",
              "      flex-wrap:wrap;\n",
              "      gap: 12px;\n",
              "    }\n",
              "\n",
              "    .colab-df-convert {\n",
              "      background-color: #E8F0FE;\n",
              "      border: none;\n",
              "      border-radius: 50%;\n",
              "      cursor: pointer;\n",
              "      display: none;\n",
              "      fill: #1967D2;\n",
              "      height: 32px;\n",
              "      padding: 0 0 0 0;\n",
              "      width: 32px;\n",
              "    }\n",
              "\n",
              "    .colab-df-convert:hover {\n",
              "      background-color: #E2EBFA;\n",
              "      box-shadow: 0px 1px 2px rgba(60, 64, 67, 0.3), 0px 1px 3px 1px rgba(60, 64, 67, 0.15);\n",
              "      fill: #174EA6;\n",
              "    }\n",
              "\n",
              "    [theme=dark] .colab-df-convert {\n",
              "      background-color: #3B4455;\n",
              "      fill: #D2E3FC;\n",
              "    }\n",
              "\n",
              "    [theme=dark] .colab-df-convert:hover {\n",
              "      background-color: #434B5C;\n",
              "      box-shadow: 0px 1px 3px 1px rgba(0, 0, 0, 0.15);\n",
              "      filter: drop-shadow(0px 1px 2px rgba(0, 0, 0, 0.3));\n",
              "      fill: #FFFFFF;\n",
              "    }\n",
              "  </style>\n",
              "\n",
              "      <script>\n",
              "        const buttonEl =\n",
              "          document.querySelector('#df-7c462d18-80e8-46ad-92ae-3cee54fea82a button.colab-df-convert');\n",
              "        buttonEl.style.display =\n",
              "          google.colab.kernel.accessAllowed ? 'block' : 'none';\n",
              "\n",
              "        async function convertToInteractive(key) {\n",
              "          const element = document.querySelector('#df-7c462d18-80e8-46ad-92ae-3cee54fea82a');\n",
              "          const dataTable =\n",
              "            await google.colab.kernel.invokeFunction('convertToInteractive',\n",
              "                                                     [key], {});\n",
              "          if (!dataTable) return;\n",
              "\n",
              "          const docLinkHtml = 'Like what you see? Visit the ' +\n",
              "            '<a target=\"_blank\" href=https://colab.research.google.com/notebooks/data_table.ipynb>data table notebook</a>'\n",
              "            + ' to learn more about interactive tables.';\n",
              "          element.innerHTML = '';\n",
              "          dataTable['output_type'] = 'display_data';\n",
              "          await google.colab.output.renderOutput(dataTable, element);\n",
              "          const docLink = document.createElement('div');\n",
              "          docLink.innerHTML = docLinkHtml;\n",
              "          element.appendChild(docLink);\n",
              "        }\n",
              "      </script>\n",
              "    </div>\n",
              "  </div>\n",
              "  "
            ]
          },
          "metadata": {},
          "execution_count": 155
        }
      ]
    },
    {
      "cell_type": "code",
      "source": [
        "df.isna().sum()"
      ],
      "metadata": {
        "colab": {
          "base_uri": "https://localhost:8080/"
        },
        "id": "S2um8CcLZeQl",
        "outputId": "0b2c30d9-3cb1-4352-af9d-9b90bb79c4fc"
      },
      "execution_count": 156,
      "outputs": [
        {
          "output_type": "execute_result",
          "data": {
            "text/plain": [
              "age                0\n",
              "sex                0\n",
              "chest_pain_type    0\n",
              "resting_bp         0\n",
              "cholesterol        0\n",
              "fasting_bs         0\n",
              "resting_ecg        0\n",
              "max_hr             0\n",
              "exercise_angina    0\n",
              "oldpeak            0\n",
              "st_slope           0\n",
              "heart_disease      0\n",
              "dtype: int64"
            ]
          },
          "metadata": {},
          "execution_count": 156
        }
      ]
    },
    {
      "cell_type": "code",
      "source": [
        "df.duplicated().sum()"
      ],
      "metadata": {
        "colab": {
          "base_uri": "https://localhost:8080/"
        },
        "id": "z6ZroTdoZvit",
        "outputId": "695bb6ba-01b1-4d68-8e70-3a79dc9133c6"
      },
      "execution_count": 157,
      "outputs": [
        {
          "output_type": "execute_result",
          "data": {
            "text/plain": [
              "0"
            ]
          },
          "metadata": {},
          "execution_count": 157
        }
      ]
    },
    {
      "cell_type": "code",
      "source": [
        "df.info()"
      ],
      "metadata": {
        "colab": {
          "base_uri": "https://localhost:8080/"
        },
        "id": "DVkevbVJZzXl",
        "outputId": "6e033879-1b8f-45cb-d09d-b0f89bca3038"
      },
      "execution_count": 158,
      "outputs": [
        {
          "output_type": "stream",
          "name": "stdout",
          "text": [
            "<class 'pandas.core.frame.DataFrame'>\n",
            "RangeIndex: 918 entries, 0 to 917\n",
            "Data columns (total 12 columns):\n",
            " #   Column           Non-Null Count  Dtype  \n",
            "---  ------           --------------  -----  \n",
            " 0   age              918 non-null    int64  \n",
            " 1   sex              918 non-null    object \n",
            " 2   chest_pain_type  918 non-null    object \n",
            " 3   resting_bp       918 non-null    int64  \n",
            " 4   cholesterol      918 non-null    int64  \n",
            " 5   fasting_bs       918 non-null    int64  \n",
            " 6   resting_ecg      918 non-null    object \n",
            " 7   max_hr           918 non-null    int64  \n",
            " 8   exercise_angina  918 non-null    object \n",
            " 9   oldpeak          918 non-null    float64\n",
            " 10  st_slope         918 non-null    object \n",
            " 11  heart_disease    918 non-null    int64  \n",
            "dtypes: float64(1), int64(6), object(5)\n",
            "memory usage: 86.2+ KB\n"
          ]
        }
      ]
    },
    {
      "cell_type": "markdown",
      "source": [
        "Using the describe() method to see statistics of numerical columns in the dataset"
      ],
      "metadata": {
        "id": "AuhOJ5kSZ7EX"
      }
    },
    {
      "cell_type": "code",
      "source": [
        "df.describe().round(2)"
      ],
      "metadata": {
        "colab": {
          "base_uri": "https://localhost:8080/",
          "height": 300
        },
        "id": "BO0nWSlZZ4C9",
        "outputId": "65771128-aa3e-423a-95d6-569fbc674dcd"
      },
      "execution_count": 159,
      "outputs": [
        {
          "output_type": "execute_result",
          "data": {
            "text/plain": [
              "          age  resting_bp  cholesterol  fasting_bs  max_hr  oldpeak  \\\n",
              "count  918.00      918.00       918.00      918.00  918.00   918.00   \n",
              "mean    53.51      132.40       198.80        0.23  136.81     0.89   \n",
              "std      9.43       18.51       109.38        0.42   25.46     1.07   \n",
              "min     28.00        0.00         0.00        0.00   60.00    -2.60   \n",
              "25%     47.00      120.00       173.25        0.00  120.00     0.00   \n",
              "50%     54.00      130.00       223.00        0.00  138.00     0.60   \n",
              "75%     60.00      140.00       267.00        0.00  156.00     1.50   \n",
              "max     77.00      200.00       603.00        1.00  202.00     6.20   \n",
              "\n",
              "       heart_disease  \n",
              "count         918.00  \n",
              "mean            0.55  \n",
              "std             0.50  \n",
              "min             0.00  \n",
              "25%             0.00  \n",
              "50%             1.00  \n",
              "75%             1.00  \n",
              "max             1.00  "
            ],
            "text/html": [
              "\n",
              "  <div id=\"df-b323b6fb-9981-4c5c-9fd8-2c38d708ca47\">\n",
              "    <div class=\"colab-df-container\">\n",
              "      <div>\n",
              "<style scoped>\n",
              "    .dataframe tbody tr th:only-of-type {\n",
              "        vertical-align: middle;\n",
              "    }\n",
              "\n",
              "    .dataframe tbody tr th {\n",
              "        vertical-align: top;\n",
              "    }\n",
              "\n",
              "    .dataframe thead th {\n",
              "        text-align: right;\n",
              "    }\n",
              "</style>\n",
              "<table border=\"1\" class=\"dataframe\">\n",
              "  <thead>\n",
              "    <tr style=\"text-align: right;\">\n",
              "      <th></th>\n",
              "      <th>age</th>\n",
              "      <th>resting_bp</th>\n",
              "      <th>cholesterol</th>\n",
              "      <th>fasting_bs</th>\n",
              "      <th>max_hr</th>\n",
              "      <th>oldpeak</th>\n",
              "      <th>heart_disease</th>\n",
              "    </tr>\n",
              "  </thead>\n",
              "  <tbody>\n",
              "    <tr>\n",
              "      <th>count</th>\n",
              "      <td>918.00</td>\n",
              "      <td>918.00</td>\n",
              "      <td>918.00</td>\n",
              "      <td>918.00</td>\n",
              "      <td>918.00</td>\n",
              "      <td>918.00</td>\n",
              "      <td>918.00</td>\n",
              "    </tr>\n",
              "    <tr>\n",
              "      <th>mean</th>\n",
              "      <td>53.51</td>\n",
              "      <td>132.40</td>\n",
              "      <td>198.80</td>\n",
              "      <td>0.23</td>\n",
              "      <td>136.81</td>\n",
              "      <td>0.89</td>\n",
              "      <td>0.55</td>\n",
              "    </tr>\n",
              "    <tr>\n",
              "      <th>std</th>\n",
              "      <td>9.43</td>\n",
              "      <td>18.51</td>\n",
              "      <td>109.38</td>\n",
              "      <td>0.42</td>\n",
              "      <td>25.46</td>\n",
              "      <td>1.07</td>\n",
              "      <td>0.50</td>\n",
              "    </tr>\n",
              "    <tr>\n",
              "      <th>min</th>\n",
              "      <td>28.00</td>\n",
              "      <td>0.00</td>\n",
              "      <td>0.00</td>\n",
              "      <td>0.00</td>\n",
              "      <td>60.00</td>\n",
              "      <td>-2.60</td>\n",
              "      <td>0.00</td>\n",
              "    </tr>\n",
              "    <tr>\n",
              "      <th>25%</th>\n",
              "      <td>47.00</td>\n",
              "      <td>120.00</td>\n",
              "      <td>173.25</td>\n",
              "      <td>0.00</td>\n",
              "      <td>120.00</td>\n",
              "      <td>0.00</td>\n",
              "      <td>0.00</td>\n",
              "    </tr>\n",
              "    <tr>\n",
              "      <th>50%</th>\n",
              "      <td>54.00</td>\n",
              "      <td>130.00</td>\n",
              "      <td>223.00</td>\n",
              "      <td>0.00</td>\n",
              "      <td>138.00</td>\n",
              "      <td>0.60</td>\n",
              "      <td>1.00</td>\n",
              "    </tr>\n",
              "    <tr>\n",
              "      <th>75%</th>\n",
              "      <td>60.00</td>\n",
              "      <td>140.00</td>\n",
              "      <td>267.00</td>\n",
              "      <td>0.00</td>\n",
              "      <td>156.00</td>\n",
              "      <td>1.50</td>\n",
              "      <td>1.00</td>\n",
              "    </tr>\n",
              "    <tr>\n",
              "      <th>max</th>\n",
              "      <td>77.00</td>\n",
              "      <td>200.00</td>\n",
              "      <td>603.00</td>\n",
              "      <td>1.00</td>\n",
              "      <td>202.00</td>\n",
              "      <td>6.20</td>\n",
              "      <td>1.00</td>\n",
              "    </tr>\n",
              "  </tbody>\n",
              "</table>\n",
              "</div>\n",
              "      <button class=\"colab-df-convert\" onclick=\"convertToInteractive('df-b323b6fb-9981-4c5c-9fd8-2c38d708ca47')\"\n",
              "              title=\"Convert this dataframe to an interactive table.\"\n",
              "              style=\"display:none;\">\n",
              "        \n",
              "  <svg xmlns=\"http://www.w3.org/2000/svg\" height=\"24px\"viewBox=\"0 0 24 24\"\n",
              "       width=\"24px\">\n",
              "    <path d=\"M0 0h24v24H0V0z\" fill=\"none\"/>\n",
              "    <path d=\"M18.56 5.44l.94 2.06.94-2.06 2.06-.94-2.06-.94-.94-2.06-.94 2.06-2.06.94zm-11 1L8.5 8.5l.94-2.06 2.06-.94-2.06-.94L8.5 2.5l-.94 2.06-2.06.94zm10 10l.94 2.06.94-2.06 2.06-.94-2.06-.94-.94-2.06-.94 2.06-2.06.94z\"/><path d=\"M17.41 7.96l-1.37-1.37c-.4-.4-.92-.59-1.43-.59-.52 0-1.04.2-1.43.59L10.3 9.45l-7.72 7.72c-.78.78-.78 2.05 0 2.83L4 21.41c.39.39.9.59 1.41.59.51 0 1.02-.2 1.41-.59l7.78-7.78 2.81-2.81c.8-.78.8-2.07 0-2.86zM5.41 20L4 18.59l7.72-7.72 1.47 1.35L5.41 20z\"/>\n",
              "  </svg>\n",
              "      </button>\n",
              "      \n",
              "  <style>\n",
              "    .colab-df-container {\n",
              "      display:flex;\n",
              "      flex-wrap:wrap;\n",
              "      gap: 12px;\n",
              "    }\n",
              "\n",
              "    .colab-df-convert {\n",
              "      background-color: #E8F0FE;\n",
              "      border: none;\n",
              "      border-radius: 50%;\n",
              "      cursor: pointer;\n",
              "      display: none;\n",
              "      fill: #1967D2;\n",
              "      height: 32px;\n",
              "      padding: 0 0 0 0;\n",
              "      width: 32px;\n",
              "    }\n",
              "\n",
              "    .colab-df-convert:hover {\n",
              "      background-color: #E2EBFA;\n",
              "      box-shadow: 0px 1px 2px rgba(60, 64, 67, 0.3), 0px 1px 3px 1px rgba(60, 64, 67, 0.15);\n",
              "      fill: #174EA6;\n",
              "    }\n",
              "\n",
              "    [theme=dark] .colab-df-convert {\n",
              "      background-color: #3B4455;\n",
              "      fill: #D2E3FC;\n",
              "    }\n",
              "\n",
              "    [theme=dark] .colab-df-convert:hover {\n",
              "      background-color: #434B5C;\n",
              "      box-shadow: 0px 1px 3px 1px rgba(0, 0, 0, 0.15);\n",
              "      filter: drop-shadow(0px 1px 2px rgba(0, 0, 0, 0.3));\n",
              "      fill: #FFFFFF;\n",
              "    }\n",
              "  </style>\n",
              "\n",
              "      <script>\n",
              "        const buttonEl =\n",
              "          document.querySelector('#df-b323b6fb-9981-4c5c-9fd8-2c38d708ca47 button.colab-df-convert');\n",
              "        buttonEl.style.display =\n",
              "          google.colab.kernel.accessAllowed ? 'block' : 'none';\n",
              "\n",
              "        async function convertToInteractive(key) {\n",
              "          const element = document.querySelector('#df-b323b6fb-9981-4c5c-9fd8-2c38d708ca47');\n",
              "          const dataTable =\n",
              "            await google.colab.kernel.invokeFunction('convertToInteractive',\n",
              "                                                     [key], {});\n",
              "          if (!dataTable) return;\n",
              "\n",
              "          const docLinkHtml = 'Like what you see? Visit the ' +\n",
              "            '<a target=\"_blank\" href=https://colab.research.google.com/notebooks/data_table.ipynb>data table notebook</a>'\n",
              "            + ' to learn more about interactive tables.';\n",
              "          element.innerHTML = '';\n",
              "          dataTable['output_type'] = 'display_data';\n",
              "          await google.colab.output.renderOutput(dataTable, element);\n",
              "          const docLink = document.createElement('div');\n",
              "          docLink.innerHTML = docLinkHtml;\n",
              "          element.appendChild(docLink);\n",
              "        }\n",
              "      </script>\n",
              "    </div>\n",
              "  </div>\n",
              "  "
            ]
          },
          "metadata": {},
          "execution_count": 159
        }
      ]
    },
    {
      "cell_type": "markdown",
      "source": [
        "Defining a map for **sex** column"
      ],
      "metadata": {
        "id": "Ub7eErwDaEtn"
      }
    },
    {
      "cell_type": "code",
      "source": [
        "df.sex.value_counts()"
      ],
      "metadata": {
        "colab": {
          "base_uri": "https://localhost:8080/"
        },
        "id": "FR60e70MaA49",
        "outputId": "60dc6927-cfcd-45f2-b558-7208ef1639ab"
      },
      "execution_count": 160,
      "outputs": [
        {
          "output_type": "execute_result",
          "data": {
            "text/plain": [
              "M    725\n",
              "F    193\n",
              "Name: sex, dtype: int64"
            ]
          },
          "metadata": {},
          "execution_count": 160
        }
      ]
    },
    {
      "cell_type": "code",
      "source": [
        "sex_map = {\"F\": 0,\n",
        "           \"M\": 1}\n",
        "\n",
        "df.sex = df.sex.map(sex_map)\n",
        "df.sex = df.sex.astype(int)"
      ],
      "metadata": {
        "id": "jPrNTzX3aRqO"
      },
      "execution_count": 161,
      "outputs": []
    },
    {
      "cell_type": "markdown",
      "source": [
        "Defining a map for **chest_pain_type** column"
      ],
      "metadata": {
        "id": "YzY9f-QKaWtR"
      }
    },
    {
      "cell_type": "code",
      "source": [
        "df.chest_pain_type.value_counts()"
      ],
      "metadata": {
        "colab": {
          "base_uri": "https://localhost:8080/"
        },
        "id": "tf23DGDiaVEU",
        "outputId": "fd6c9c2c-af08-4b20-a6e2-54fd4c9d0df6"
      },
      "execution_count": 162,
      "outputs": [
        {
          "output_type": "execute_result",
          "data": {
            "text/plain": [
              "ASY    496\n",
              "NAP    203\n",
              "ATA    173\n",
              "TA      46\n",
              "Name: chest_pain_type, dtype: int64"
            ]
          },
          "metadata": {},
          "execution_count": 162
        }
      ]
    },
    {
      "cell_type": "code",
      "source": [
        "chest_pain_type_map = {\"ASY\": 0,\n",
        "                       \"NAP\": 1,\n",
        "                       \"ATA\": 2,\n",
        "                       \"TA\": 3}\n",
        "\n",
        "df.chest_pain_type = df.chest_pain_type.map(chest_pain_type_map)\n",
        "df.chest_pain_type = df.chest_pain_type.astype(int)"
      ],
      "metadata": {
        "id": "n9Z1y_W5ahYT"
      },
      "execution_count": 163,
      "outputs": []
    },
    {
      "cell_type": "markdown",
      "source": [
        "Defining the map for resting_ecg column"
      ],
      "metadata": {
        "id": "o71WOPUdaju-"
      }
    },
    {
      "cell_type": "code",
      "source": [
        "df.resting_ecg.value_counts()"
      ],
      "metadata": {
        "colab": {
          "base_uri": "https://localhost:8080/"
        },
        "id": "bXqOdunnakVN",
        "outputId": "948e1b6d-2a86-4525-8005-38e3cc8476db"
      },
      "execution_count": 164,
      "outputs": [
        {
          "output_type": "execute_result",
          "data": {
            "text/plain": [
              "Normal    552\n",
              "LVH       188\n",
              "ST        178\n",
              "Name: resting_ecg, dtype: int64"
            ]
          },
          "metadata": {},
          "execution_count": 164
        }
      ]
    },
    {
      "cell_type": "code",
      "source": [
        "resting_ecg_map = {\"Normal\": 0,\n",
        "                   \"LVH\": 1,\n",
        "                   \"ST\": 2}\n",
        "\n",
        "df.resting_ecg = df.resting_ecg.map(resting_ecg_map)\n",
        "df.resting_ecg = df.resting_ecg.astype(int)"
      ],
      "metadata": {
        "id": "F29Mtk0fanli"
      },
      "execution_count": 63,
      "outputs": []
    },
    {
      "cell_type": "markdown",
      "source": [
        "Defining the map for exercise_angina column"
      ],
      "metadata": {
        "id": "sfQBG9PdapD_"
      }
    },
    {
      "cell_type": "code",
      "source": [
        "df.exercise_angina.value_counts()"
      ],
      "metadata": {
        "colab": {
          "base_uri": "https://localhost:8080/"
        },
        "id": "tAUj9iZxapdO",
        "outputId": "63592c98-760a-413d-e4dc-b6eb66255c61"
      },
      "execution_count": 64,
      "outputs": [
        {
          "output_type": "execute_result",
          "data": {
            "text/plain": [
              "N    547\n",
              "Y    371\n",
              "Name: exercise_angina, dtype: int64"
            ]
          },
          "metadata": {},
          "execution_count": 64
        }
      ]
    },
    {
      "cell_type": "code",
      "source": [
        "exercise_angina_map = {\"N\": 0,\n",
        "                       \"Y\": 1}\n",
        "\n",
        "df.exercise_angina = df.exercise_angina.map(exercise_angina_map)\n",
        "df.exercise_angina = df.exercise_angina.astype(int)"
      ],
      "metadata": {
        "id": "Nh6vX0F2asLv"
      },
      "execution_count": 65,
      "outputs": []
    },
    {
      "cell_type": "markdown",
      "source": [
        "Defining the map for st_slop column."
      ],
      "metadata": {
        "id": "2xp1MCnOatom"
      }
    },
    {
      "cell_type": "code",
      "source": [
        "df.st_slope.value_counts()"
      ],
      "metadata": {
        "colab": {
          "base_uri": "https://localhost:8080/"
        },
        "id": "SJ2n_zUGauI_",
        "outputId": "52b7547a-95a5-4da2-81cb-184a71c609af"
      },
      "execution_count": 66,
      "outputs": [
        {
          "output_type": "execute_result",
          "data": {
            "text/plain": [
              "Flat    460\n",
              "Up      395\n",
              "Down     63\n",
              "Name: st_slope, dtype: int64"
            ]
          },
          "metadata": {},
          "execution_count": 66
        }
      ]
    },
    {
      "cell_type": "code",
      "source": [
        "st_slop_map = {\"Flat\": 0,\n",
        "               \"Up\": 1,\n",
        "               \"Down\": 2}\n",
        "\n",
        "df.st_slope = df.st_slope.map(st_slop_map)\n",
        "df.st_slope = df.st_slope.astype(int)"
      ],
      "metadata": {
        "id": "RfofKuN1aws_"
      },
      "execution_count": 67,
      "outputs": []
    },
    {
      "cell_type": "code",
      "source": [
        "df.info()"
      ],
      "metadata": {
        "colab": {
          "base_uri": "https://localhost:8080/"
        },
        "id": "6o9qtyfDax-O",
        "outputId": "315f674d-0029-4871-9ccc-0199a719a466"
      },
      "execution_count": 68,
      "outputs": [
        {
          "output_type": "stream",
          "name": "stdout",
          "text": [
            "<class 'pandas.core.frame.DataFrame'>\n",
            "RangeIndex: 918 entries, 0 to 917\n",
            "Data columns (total 12 columns):\n",
            " #   Column           Non-Null Count  Dtype  \n",
            "---  ------           --------------  -----  \n",
            " 0   age              918 non-null    int64  \n",
            " 1   sex              918 non-null    int64  \n",
            " 2   chest_pain_type  918 non-null    int64  \n",
            " 3   resting_bp       918 non-null    int64  \n",
            " 4   cholesterol      918 non-null    int64  \n",
            " 5   fasting_bs       918 non-null    int64  \n",
            " 6   resting_ecg      918 non-null    int64  \n",
            " 7   max_hr           918 non-null    int64  \n",
            " 8   exercise_angina  918 non-null    int64  \n",
            " 9   oldpeak          918 non-null    float64\n",
            " 10  st_slope         918 non-null    int64  \n",
            " 11  heart_disease    918 non-null    int64  \n",
            "dtypes: float64(1), int64(11)\n",
            "memory usage: 86.2 KB\n"
          ]
        }
      ]
    },
    {
      "cell_type": "markdown",
      "source": [
        "Picking a color pallete for the charts and setting the default seaborn style"
      ],
      "metadata": {
        "id": "_RdidEWda0H2"
      }
    },
    {
      "cell_type": "code",
      "source": [
        "sns.set()\n",
        "\n",
        "colors = sns.color_palette(n_colors=len(df.columns))"
      ],
      "metadata": {
        "id": "4VpoZUeua0mm"
      },
      "execution_count": 69,
      "outputs": []
    },
    {
      "cell_type": "markdown",
      "source": [
        "Defining a list with the categorical columns of the dataset"
      ],
      "metadata": {
        "id": "YXWeVHGCa4Y_"
      }
    },
    {
      "cell_type": "code",
      "source": [
        "categorical_columns = [\"sex\", \"chest_pain_type\", \"resting_ecg\", \"exercise_angina\", \"st_slope\", \"fasting_bs\", \"heart_disease\"]"
      ],
      "metadata": {
        "id": "IBxEVIzXa5HI"
      },
      "execution_count": 70,
      "outputs": []
    },
    {
      "cell_type": "markdown",
      "source": [
        "Plotting histograms and countplots of the data in the dataset"
      ],
      "metadata": {
        "id": "7wE4_hYTa69n"
      }
    },
    {
      "cell_type": "code",
      "source": [
        "fig, ax = plt.subplots(nrows=len(df.columns))\n",
        "fig.set_size_inches((10,75))\n",
        "\n",
        "for idx, column in enumerate(df.columns):\n",
        "    \n",
        "    if column in categorical_columns:\n",
        "        ax[idx].bar(x=df[column].value_counts().index, height=df[column].value_counts().values, color=colors[idx])\n",
        "        ax[idx].set_title(f\"{column} bar plot\")\n",
        "        ax[idx].set_xlabel(column)\n",
        "        ax[idx].set_ylabel(\"Count\")\n",
        "        ax[idx].set_xticks(range(len(df[column].value_counts().index)))\n",
        "    else:\n",
        "        ax[idx].hist(df[column], color=colors[idx])\n",
        "        ax[idx].set_title(f\"{column} distribution\")\n",
        "        ax[idx].set_xlabel(column)\n",
        "        ax[idx].set_ylabel(\"Frequency\")\n",
        "        \n",
        "plt.show()"
      ],
      "metadata": {
        "colab": {
          "base_uri": "https://localhost:8080/",
          "height": 1000
        },
        "id": "9it2GGlma8nu",
        "outputId": "d21673d9-7130-4c7e-ac11-dd50317880dc"
      },
      "execution_count": 71,
      "outputs": [
        {
          "output_type": "display_data",
          "data": {
            "text/plain": [
              "<Figure size 720x5400 with 12 Axes>"
            ],
            "image/png": "[encoded data removed]"
          },
          "metadata": {}
        }
      ]
    },
    {
      "cell_type": "markdown",
      "source": [
        "Plotting some boxplots of numerical columns to check if there are some outliers"
      ],
      "metadata": {
        "id": "lpqw11Q8bS0j"
      }
    },
    {
      "cell_type": "code",
      "source": [
        "for column in df.columns:\n",
        "    \n",
        "    if column not in categorical_columns:\n",
        "        sns.boxplot(data=df[column])\n",
        "        plt.title(f\"{column} boxplot\")    \n",
        "    plt.show()"
      ],
      "metadata": {
        "colab": {
          "base_uri": "https://localhost:8080/",
          "height": 1000
        },
        "id": "DFstwbt6bRfG",
        "outputId": "8f3a2056-57a5-405b-f61b-8ce781e1c3aa"
      },
      "execution_count": 72,
      "outputs": [
        {
          "output_type": "display_data",
          "data": {
            "text/plain": [
              "<Figure size 432x288 with 1 Axes>"
            ],
            "image/png": "[encoded data removed]"
          },
          "metadata": {}
        },
        {
          "output_type": "display_data",
          "data": {
            "text/plain": [
              "<Figure size 432x288 with 1 Axes>"
            ],
            "image/png": "[encoded data removed]"
          },
          "metadata": {}
        },
        {
          "output_type": "display_data",
          "data": {
            "text/plain": [
              "<Figure size 432x288 with 1 Axes>"
            ],
            "image/png": "[encoded data removed]"
          },
          "metadata": {}
        },
        {
          "output_type": "display_data",
          "data": {
            "text/plain": [
              "<Figure size 432x288 with 1 Axes>"
            ],
            "image/png": "[encoded data removed]"
          },
          "metadata": {}
        },
        {
          "output_type": "display_data",
          "data": {
            "text/plain": [
              "<Figure size 432x288 with 1 Axes>"
            ],
            "image/png": "[encoded data removed]"
          },
          "metadata": {}
        }
      ]
    },
    {
      "cell_type": "markdown",
      "source": [
        "Removing the rows where the **cholesterol** and the **resting_bp** is equal to zero."
      ],
      "metadata": {
        "id": "DIPSTmoSbXl7"
      }
    },
    {
      "cell_type": "code",
      "source": [
        "df = df[~(df.cholesterol == 0)].copy()\n",
        "df = df[~(df.resting_bp == 0)].copy()"
      ],
      "metadata": {
        "id": "g8yZgBRGbaCG"
      },
      "execution_count": 73,
      "outputs": []
    },
    {
      "cell_type": "markdown",
      "source": [
        "Plotting the correlation matrix of the columns"
      ],
      "metadata": {
        "id": "mpHTk2uMbcIm"
      }
    },
    {
      "cell_type": "code",
      "source": [
        "fig, ax = plt.subplots()\n",
        "fig.set_size_inches((10,10))\n",
        "\n",
        "ax = sns.heatmap(data=df.corr(), annot=True)\n",
        "ax.set_title(\"Correlation Matrix\")\n",
        "plt.show()"
      ],
      "metadata": {
        "colab": {
          "base_uri": "https://localhost:8080/",
          "height": 690
        },
        "id": "S01jL1oqbdPe",
        "outputId": "50ef48d6-87dc-4555-dc26-11669290f2e4"
      },
      "execution_count": 74,
      "outputs": [
        {
          "output_type": "display_data",
          "data": {
            "text/plain": [
              "<Figure size 720x720 with 2 Axes>"
            ],
            "image/png": "[encoded data removed]"
          },
          "metadata": {}
        }
      ]
    },
    {
      "cell_type": "markdown",
      "source": [
        "A bar plot of the correlation of the columns with the target column (heart_disease)"
      ],
      "metadata": {
        "id": "1AYUBTmObfEf"
      }
    },
    {
      "cell_type": "code",
      "source": [
        "fig, ax = plt.subplots()\n",
        "fig.set_size_inches((5,5))\n",
        "\n",
        "ax = df.drop(\"heart_disease\", axis=1).corrwith(df.heart_disease).plot(kind=\"bar\")\n",
        "ax.set_title(\"Correlation with heart_disease bar plot\")\n",
        "plt.show()"
      ],
      "metadata": {
        "colab": {
          "base_uri": "https://localhost:8080/",
          "height": 418
        },
        "id": "3IaNU5EIbffd",
        "outputId": "2324b04a-d679-4277-86d7-9afdf6746981"
      },
      "execution_count": 75,
      "outputs": [
        {
          "output_type": "display_data",
          "data": {
            "text/plain": [
              "<Figure size 360x360 with 1 Axes>"
            ],
            "image/png": "[encoded data removed]"
          },
          "metadata": {}
        }
      ]
    },
    {
      "cell_type": "markdown",
      "source": [
        "Calculating the feature importance using AUCARACY score of the columns"
      ],
      "metadata": {
        "id": "50cBHuZqbirI"
      }
    },
    {
      "cell_type": "code",
      "source": [
        "data = df.copy()\n",
        "\n",
        "COLUMNS = [col for col in data.columns if col != \"heart_disease\"]\n",
        "TARGET = \"heart_disease\"\n",
        "\n",
        "train_size = 0.6\n",
        "test_size = 0.2\n",
        "val_size = 0.2\n",
        "\n",
        "X_full_train, X_test, y_full_train, y_test = train_test_split(data[COLUMNS],\n",
        "                                                         data[TARGET],\n",
        "                                                         test_size=test_size,\n",
        "                                                         random_state=42)\n",
        "\n",
        "X_train, X_val, y_train, y_val = train_test_split(X_full_train,\n",
        "                                                  y_full_train,\n",
        "                                                  test_size=val_size/(train_size+test_size),\n",
        "                                                  random_state=42)\n",
        "\n",
        "features_auc_scores = []\n",
        "\n",
        "for column in COLUMNS:\n",
        "    \n",
        "    auc_score = roc_auc_score(y_true=y_train, y_score=X_train[column])\n",
        "    features_auc_scores.append([column, auc_score])\n",
        "    \n",
        "feature_importance_df = pd.DataFrame(data=features_auc_scores, columns=[\"feature\", \"auc_score\"])\n",
        "feature_importance_df[\"correlation\"] = data.drop(\"heart_disease\", axis=1).corrwith(data.heart_disease).values"
      ],
      "metadata": {
        "id": "jxHbbO4Nbmwx"
      },
      "execution_count": 76,
      "outputs": []
    },
    {
      "cell_type": "markdown",
      "source": [
        "A table with **auc_score** and correlation with **heart_disease** of each column in the dataset"
      ],
      "metadata": {
        "id": "6QEoGnztbpCZ"
      }
    },
    {
      "cell_type": "code",
      "source": [
        "feature_importance_df.sort_values(\"auc_score\", ascending=False)"
      ],
      "metadata": {
        "colab": {
          "base_uri": "https://localhost:8080/",
          "height": 394
        },
        "id": "Sz6ZVJwAbraS",
        "outputId": "6955fbb8-610e-4be3-fa36-9f64b0689f06"
      },
      "execution_count": 77,
      "outputs": [
        {
          "output_type": "execute_result",
          "data": {
            "text/plain": [
              "            feature  auc_score  correlation\n",
              "8   exercise_angina   0.784142     0.551834\n",
              "9           oldpeak   0.768320     0.495696\n",
              "0               age   0.654454     0.298617\n",
              "3        resting_bp   0.617774     0.173242\n",
              "1               sex   0.613242     0.292779\n",
              "6       resting_ecg   0.566400     0.132872\n",
              "4       cholesterol   0.553046     0.103866\n",
              "5        fasting_bs   0.549722     0.160594\n",
              "7            max_hr   0.272872    -0.377212\n",
              "10         st_slope   0.243454    -0.441972\n",
              "2   chest_pain_type   0.221841    -0.463177"
            ],
            "text/html": [
              "\n",
              "  <div id=\"df-a0f80fa5-5886-43ff-bfb8-9b2c2dd20c78\">\n",
              "    <div class=\"colab-df-container\">\n",
              "      <div>\n",
              "<style scoped>\n",
              "    .dataframe tbody tr th:only-of-type {\n",
              "        vertical-align: middle;\n",
              "    }\n",
              "\n",
              "    .dataframe tbody tr th {\n",
              "        vertical-align: top;\n",
              "    }\n",
              "\n",
              "    .dataframe thead th {\n",
              "        text-align: right;\n",
              "    }\n",
              "</style>\n",
              "<table border=\"1\" class=\"dataframe\">\n",
              "  <thead>\n",
              "    <tr style=\"text-align: right;\">\n",
              "      <th></th>\n",
              "      <th>feature</th>\n",
              "      <th>auc_score</th>\n",
              "      <th>correlation</th>\n",
              "    </tr>\n",
              "  </thead>\n",
              "  <tbody>\n",
              "    <tr>\n",
              "      <th>8</th>\n",
              "      <td>exercise_angina</td>\n",
              "      <td>0.784142</td>\n",
              "      <td>0.551834</td>\n",
              "    </tr>\n",
              "    <tr>\n",
              "      <th>9</th>\n",
              "      <td>oldpeak</td>\n",
              "      <td>0.768320</td>\n",
              "      <td>0.495696</td>\n",
              "    </tr>\n",
              "    <tr>\n",
              "      <th>0</th>\n",
              "      <td>age</td>\n",
              "      <td>0.654454</td>\n",
              "      <td>0.298617</td>\n",
              "    </tr>\n",
              "    <tr>\n",
              "      <th>3</th>\n",
              "      <td>resting_bp</td>\n",
              "      <td>0.617774</td>\n",
              "      <td>0.173242</td>\n",
              "    </tr>\n",
              "    <tr>\n",
              "      <th>1</th>\n",
              "      <td>sex</td>\n",
              "      <td>0.613242</td>\n",
              "      <td>0.292779</td>\n",
              "    </tr>\n",
              "    <tr>\n",
              "      <th>6</th>\n",
              "      <td>resting_ecg</td>\n",
              "      <td>0.566400</td>\n",
              "      <td>0.132872</td>\n",
              "    </tr>\n",
              "    <tr>\n",
              "      <th>4</th>\n",
              "      <td>cholesterol</td>\n",
              "      <td>0.553046</td>\n",
              "      <td>0.103866</td>\n",
              "    </tr>\n",
              "    <tr>\n",
              "      <th>5</th>\n",
              "      <td>fasting_bs</td>\n",
              "      <td>0.549722</td>\n",
              "      <td>0.160594</td>\n",
              "    </tr>\n",
              "    <tr>\n",
              "      <th>7</th>\n",
              "      <td>max_hr</td>\n",
              "      <td>0.272872</td>\n",
              "      <td>-0.377212</td>\n",
              "    </tr>\n",
              "    <tr>\n",
              "      <th>10</th>\n",
              "      <td>st_slope</td>\n",
              "      <td>0.243454</td>\n",
              "      <td>-0.441972</td>\n",
              "    </tr>\n",
              "    <tr>\n",
              "      <th>2</th>\n",
              "      <td>chest_pain_type</td>\n",
              "      <td>0.221841</td>\n",
              "      <td>-0.463177</td>\n",
              "    </tr>\n",
              "  </tbody>\n",
              "</table>\n",
              "</div>\n",
              "      <button class=\"colab-df-convert\" onclick=\"convertToInteractive('df-a0f80fa5-5886-43ff-bfb8-9b2c2dd20c78')\"\n",
              "              title=\"Convert this dataframe to an interactive table.\"\n",
              "              style=\"display:none;\">\n",
              "        \n",
              "  <svg xmlns=\"http://www.w3.org/2000/svg\" height=\"24px\"viewBox=\"0 0 24 24\"\n",
              "       width=\"24px\">\n",
              "    <path d=\"M0 0h24v24H0V0z\" fill=\"none\"/>\n",
              "    <path d=\"M18.56 5.44l.94 2.06.94-2.06 2.06-.94-2.06-.94-.94-2.06-.94 2.06-2.06.94zm-11 1L8.5 8.5l.94-2.06 2.06-.94-2.06-.94L8.5 2.5l-.94 2.06-2.06.94zm10 10l.94 2.06.94-2.06 2.06-.94-2.06-.94-.94-2.06-.94 2.06-2.06.94z\"/><path d=\"M17.41 7.96l-1.37-1.37c-.4-.4-.92-.59-1.43-.59-.52 0-1.04.2-1.43.59L10.3 9.45l-7.72 7.72c-.78.78-.78 2.05 0 2.83L4 21.41c.39.39.9.59 1.41.59.51 0 1.02-.2 1.41-.59l7.78-7.78 2.81-2.81c.8-.78.8-2.07 0-2.86zM5.41 20L4 18.59l7.72-7.72 1.47 1.35L5.41 20z\"/>\n",
              "  </svg>\n",
              "      </button>\n",
              "      \n",
              "  <style>\n",
              "    .colab-df-container {\n",
              "      display:flex;\n",
              "      flex-wrap:wrap;\n",
              "      gap: 12px;\n",
              "    }\n",
              "\n",
              "    .colab-df-convert {\n",
              "      background-color: #E8F0FE;\n",
              "      border: none;\n",
              "      border-radius: 50%;\n",
              "      cursor: pointer;\n",
              "      display: none;\n",
              "      fill: #1967D2;\n",
              "      height: 32px;\n",
              "      padding: 0 0 0 0;\n",
              "      width: 32px;\n",
              "    }\n",
              "\n",
              "    .colab-df-convert:hover {\n",
              "      background-color: #E2EBFA;\n",
              "      box-shadow: 0px 1px 2px rgba(60, 64, 67, 0.3), 0px 1px 3px 1px rgba(60, 64, 67, 0.15);\n",
              "      fill: #174EA6;\n",
              "    }\n",
              "\n",
              "    [theme=dark] .colab-df-convert {\n",
              "      background-color: #3B4455;\n",
              "      fill: #D2E3FC;\n",
              "    }\n",
              "\n",
              "    [theme=dark] .colab-df-convert:hover {\n",
              "      background-color: #434B5C;\n",
              "      box-shadow: 0px 1px 3px 1px rgba(0, 0, 0, 0.15);\n",
              "      filter: drop-shadow(0px 1px 2px rgba(0, 0, 0, 0.3));\n",
              "      fill: #FFFFFF;\n",
              "    }\n",
              "  </style>\n",
              "\n",
              "      <script>\n",
              "        const buttonEl =\n",
              "          document.querySelector('#df-a0f80fa5-5886-43ff-bfb8-9b2c2dd20c78 button.colab-df-convert');\n",
              "        buttonEl.style.display =\n",
              "          google.colab.kernel.accessAllowed ? 'block' : 'none';\n",
              "\n",
              "        async function convertToInteractive(key) {\n",
              "          const element = document.querySelector('#df-a0f80fa5-5886-43ff-bfb8-9b2c2dd20c78');\n",
              "          const dataTable =\n",
              "            await google.colab.kernel.invokeFunction('convertToInteractive',\n",
              "                                                     [key], {});\n",
              "          if (!dataTable) return;\n",
              "\n",
              "          const docLinkHtml = 'Like what you see? Visit the ' +\n",
              "            '<a target=\"_blank\" href=https://colab.research.google.com/notebooks/data_table.ipynb>data table notebook</a>'\n",
              "            + ' to learn more about interactive tables.';\n",
              "          element.innerHTML = '';\n",
              "          dataTable['output_type'] = 'display_data';\n",
              "          await google.colab.output.renderOutput(dataTable, element);\n",
              "          const docLink = document.createElement('div');\n",
              "          docLink.innerHTML = docLinkHtml;\n",
              "          element.appendChild(docLink);\n",
              "        }\n",
              "      </script>\n",
              "    </div>\n",
              "  </div>\n",
              "  "
            ]
          },
          "metadata": {},
          "execution_count": 77
        }
      ]
    },
    {
      "cell_type": "markdown",
      "source": [
        "Choosing the features that will be added in the model"
      ],
      "metadata": {
        "id": "9fgZiUgjbszv"
      }
    },
    {
      "cell_type": "code",
      "source": [
        "logistic_reg = LogisticRegression(solver=\"liblinear\", C=1.0, max_iter=100, random_state=42)"
      ],
      "metadata": {
        "id": "IqyElYuNbtre"
      },
      "execution_count": 78,
      "outputs": []
    },
    {
      "cell_type": "code",
      "source": [
        "FEATURES = [\"exercise_angina\", \"oldpeak\", \"age\", \"sex\", \"chest_pain_type\", \"st_slope\", \"fasting_bs\"]\n",
        "\n",
        "train_size = 0.6\n",
        "test_size = 0.2\n",
        "val_size = 0.2\n",
        "\n",
        "X_full_train, X_test, y_full_train, y_test = train_test_split(data[FEATURES],\n",
        "                                                            data[TARGET],\n",
        "                                                            test_size=test_size,\n",
        "                                                            random_state=42)\n",
        "\n",
        "X_train, X_val, y_train, y_val = train_test_split(X_full_train,\n",
        "                                                    y_full_train,\n",
        "                                                    test_size=val_size/(train_size+test_size),\n",
        "                                                    random_state=42)\n",
        "\n",
        "dv = DictVectorizer(sparse=False)\n",
        "\n",
        "full_train_dict = X_full_train.to_dict(orient=\"records\")\n",
        "train_dict = X_train.to_dict(orient=\"records\")\n",
        "test_dict = X_test.to_dict(orient=\"records\")\n",
        "val_dict = X_val.to_dict(orient=\"records\")\n",
        "\n",
        "X_full_train = dv.fit_transform(full_train_dict)\n",
        "X_train = dv.fit_transform(train_dict)\n",
        "X_test = dv.fit_transform(test_dict)\n",
        "X_val = dv.fit_transform(val_dict)\n",
        "\n",
        "logistic_reg.fit(X=X_train, y=y_train)\n",
        "\n",
        "y_pred = logistic_reg.predict(X=X_val)\n",
        "auc_score = roc_auc_score(y_true=y_val.values, y_score=y_pred)\n",
        "print(auc_score*100)"
      ],
      "metadata": {
        "colab": {
          "base_uri": "https://localhost:8080/"
        },
        "id": "p_hbXCJBbvts",
        "outputId": "3504bef4-a0d6-43f1-e62f-9ae430a32b73"
      },
      "execution_count": 79,
      "outputs": [
        {
          "output_type": "stream",
          "name": "stdout",
          "text": [
            "86.35789093535571\n"
          ]
        }
      ]
    },
    {
      "cell_type": "code",
      "source": [
        "plt.figure(figsize=(18,18))\n",
        "plt.subplot(3,2,1)\n",
        "plt.style.use('seaborn')\n",
        "plt.tight_layout()\n",
        "sns.set_context('talk')\n",
        "sns.histplot(data=df, x='age', hue=\"HeartDisease\",multiple=\"stack\",palette='magma')\n",
        "plt.title('Age vs HeartDisease')\n",
        "\n",
        "plt.subplot(3,2,2)\n",
        "plt.style.use('seaborn')\n",
        "plt.tight_layout()\n",
        "sns.set_context('talk')\n",
        "sns.histplot(data=df, x='RestingBP', hue=\"HeartDisease\",multiple=\"stack\",palette='magma')\n",
        "plt.title('RestingBP vs HeartDisease')\n",
        "\n",
        "plt.subplot(3,2,3)\n",
        "plt.style.use('seaborn')\n",
        "plt.tight_layout()\n",
        "sns.set_context('talk')\n",
        "sns.histplot(data=df, x='Cholesterol', hue=\"HeartDisease\",multiple=\"stack\",palette='magma')\n",
        "plt.title('Cholesterol vs HeartDisease')\n",
        "\n",
        "plt.subplot(3,2,4)\n",
        "plt.style.use('seaborn')\n",
        "plt.tight_layout()\n",
        "sns.set_context('talk')\n",
        "sns.histplot(data=df, x='FastingBS', hue=\"HeartDisease\",multiple=\"stack\",palette='magma')\n",
        "plt.title('FastingBS vs HeartDisease')\n",
        "\n",
        "plt.subplot(3,2,5)\n",
        "plt.style.use('seaborn')\n",
        "plt.tight_layout()\n",
        "sns.set_context('talk')\n",
        "sns.histplot(data=df, x='MaxHR', hue=\"HeartDisease\",multiple=\"stack\",palette='magma')\n",
        "plt.title('MaxHR vs HeartDisease')\n",
        "\n",
        "plt.subplot(3,2,6)\n",
        "plt.style.use('seaborn')\n",
        "plt.tight_layout()\n",
        "sns.set_context('talk')\n",
        "sns.histplot(data=df, x='Oldpeak', hue=\"HeartDisease\",multiple=\"stack\",palette='magma')\n",
        "plt.title('Oldpeak vs HeartDisease')\n",
        "plt.show()"
      ],
      "metadata": {
        "colab": {
          "base_uri": "https://localhost:8080/",
          "height": 814
        },
        "id": "DXYDtSpvd5A5",
        "outputId": "bd81951f-6f49-4aa7-c5b5-23ea1999206c"
      },
      "execution_count": 145,
      "outputs": [
        {
          "output_type": "error",
          "ename": "ValueError",
          "evalue": "ignored",
          "traceback": [
            "\u001b[0;31m---------------------------------------------------------------------------\u001b[0m",
            "\u001b[0;31mValueError\u001b[0m                                Traceback (most recent call last)",
            "\u001b[0;32m<ipython-input-145-241b8fe5bf8b>\u001b[0m in \u001b[0;36m<module>\u001b[0;34m\u001b[0m\n\u001b[1;32m      4\u001b[0m \u001b[0mplt\u001b[0m\u001b[0;34m.\u001b[0m\u001b[0mtight_layout\u001b[0m\u001b[0;34m(\u001b[0m\u001b[0;34m)\u001b[0m\u001b[0;34m\u001b[0m\u001b[0;34m\u001b[0m\u001b[0m\n\u001b[1;32m      5\u001b[0m \u001b[0msns\u001b[0m\u001b[0;34m.\u001b[0m\u001b[0mset_context\u001b[0m\u001b[0;34m(\u001b[0m\u001b[0;34m'talk'\u001b[0m\u001b[0;34m)\u001b[0m\u001b[0;34m\u001b[0m\u001b[0;34m\u001b[0m\u001b[0m\n\u001b[0;32m----> 6\u001b[0;31m \u001b[0msns\u001b[0m\u001b[0;34m.\u001b[0m\u001b[0mhistplot\u001b[0m\u001b[0;34m(\u001b[0m\u001b[0mdata\u001b[0m\u001b[0;34m=\u001b[0m\u001b[0mdf\u001b[0m\u001b[0;34m,\u001b[0m \u001b[0mx\u001b[0m\u001b[0;34m=\u001b[0m\u001b[0;34m'age'\u001b[0m\u001b[0;34m,\u001b[0m \u001b[0mhue\u001b[0m\u001b[0;34m=\u001b[0m\u001b[0;34m\"HeartDisease\"\u001b[0m\u001b[0;34m,\u001b[0m\u001b[0mmultiple\u001b[0m\u001b[0;34m=\u001b[0m\u001b[0;34m\"stack\"\u001b[0m\u001b[0;34m,\u001b[0m\u001b[0mpalette\u001b[0m\u001b[0;34m=\u001b[0m\u001b[0;34m'magma'\u001b[0m\u001b[0;34m)\u001b[0m\u001b[0;34m\u001b[0m\u001b[0;34m\u001b[0m\u001b[0m\n\u001b[0m\u001b[1;32m      7\u001b[0m \u001b[0mplt\u001b[0m\u001b[0;34m.\u001b[0m\u001b[0mtitle\u001b[0m\u001b[0;34m(\u001b[0m\u001b[0;34m'Age vs HeartDisease'\u001b[0m\u001b[0;34m)\u001b[0m\u001b[0;34m\u001b[0m\u001b[0;34m\u001b[0m\u001b[0m\n\u001b[1;32m      8\u001b[0m \u001b[0;34m\u001b[0m\u001b[0m\n",
            "\u001b[0;32m/usr/local/lib/python3.8/dist-packages/seaborn/distributions.py\u001b[0m in \u001b[0;36mhistplot\u001b[0;34m(data, x, y, hue, weights, stat, bins, binwidth, binrange, discrete, cumulative, common_bins, common_norm, multiple, element, fill, shrink, kde, kde_kws, line_kws, thresh, pthresh, pmax, cbar, cbar_ax, cbar_kws, palette, hue_order, hue_norm, color, log_scale, legend, ax, **kwargs)\u001b[0m\n\u001b[1;32m   1428\u001b[0m ):\n\u001b[1;32m   1429\u001b[0m \u001b[0;34m\u001b[0m\u001b[0m\n\u001b[0;32m-> 1430\u001b[0;31m     p = _DistributionPlotter(\n\u001b[0m\u001b[1;32m   1431\u001b[0m         \u001b[0mdata\u001b[0m\u001b[0;34m=\u001b[0m\u001b[0mdata\u001b[0m\u001b[0;34m,\u001b[0m\u001b[0;34m\u001b[0m\u001b[0;34m\u001b[0m\u001b[0m\n\u001b[1;32m   1432\u001b[0m         \u001b[0mvariables\u001b[0m\u001b[0;34m=\u001b[0m\u001b[0m_DistributionPlotter\u001b[0m\u001b[0;34m.\u001b[0m\u001b[0mget_semantics\u001b[0m\u001b[0;34m(\u001b[0m\u001b[0mlocals\u001b[0m\u001b[0;34m(\u001b[0m\u001b[0;34m)\u001b[0m\u001b[0;34m)\u001b[0m\u001b[0;34m\u001b[0m\u001b[0;34m\u001b[0m\u001b[0m\n",
            "\u001b[0;32m/usr/local/lib/python3.8/dist-packages/seaborn/distributions.py\u001b[0m in \u001b[0;36m__init__\u001b[0;34m(self, data, variables)\u001b[0m\n\u001b[1;32m    109\u001b[0m     ):\n\u001b[1;32m    110\u001b[0m \u001b[0;34m\u001b[0m\u001b[0m\n\u001b[0;32m--> 111\u001b[0;31m         \u001b[0msuper\u001b[0m\u001b[0;34m(\u001b[0m\u001b[0;34m)\u001b[0m\u001b[0;34m.\u001b[0m\u001b[0m__init__\u001b[0m\u001b[0;34m(\u001b[0m\u001b[0mdata\u001b[0m\u001b[0;34m=\u001b[0m\u001b[0mdata\u001b[0m\u001b[0;34m,\u001b[0m \u001b[0mvariables\u001b[0m\u001b[0;34m=\u001b[0m\u001b[0mvariables\u001b[0m\u001b[0;34m)\u001b[0m\u001b[0;34m\u001b[0m\u001b[0;34m\u001b[0m\u001b[0m\n\u001b[0m\u001b[1;32m    112\u001b[0m \u001b[0;34m\u001b[0m\u001b[0m\n\u001b[1;32m    113\u001b[0m     \u001b[0;34m@\u001b[0m\u001b[0mproperty\u001b[0m\u001b[0;34m\u001b[0m\u001b[0;34m\u001b[0m\u001b[0m\n",
            "\u001b[0;32m/usr/local/lib/python3.8/dist-packages/seaborn/_core.py\u001b[0m in \u001b[0;36m__init__\u001b[0;34m(self, data, variables)\u001b[0m\n\u001b[1;32m    603\u001b[0m     \u001b[0;32mdef\u001b[0m \u001b[0m__init__\u001b[0m\u001b[0;34m(\u001b[0m\u001b[0mself\u001b[0m\u001b[0;34m,\u001b[0m \u001b[0mdata\u001b[0m\u001b[0;34m=\u001b[0m\u001b[0;32mNone\u001b[0m\u001b[0;34m,\u001b[0m \u001b[0mvariables\u001b[0m\u001b[0;34m=\u001b[0m\u001b[0;34m{\u001b[0m\u001b[0;34m}\u001b[0m\u001b[0;34m)\u001b[0m\u001b[0;34m:\u001b[0m\u001b[0;34m\u001b[0m\u001b[0;34m\u001b[0m\u001b[0m\n\u001b[1;32m    604\u001b[0m \u001b[0;34m\u001b[0m\u001b[0m\n\u001b[0;32m--> 605\u001b[0;31m         \u001b[0mself\u001b[0m\u001b[0;34m.\u001b[0m\u001b[0massign_variables\u001b[0m\u001b[0;34m(\u001b[0m\u001b[0mdata\u001b[0m\u001b[0;34m,\u001b[0m \u001b[0mvariables\u001b[0m\u001b[0;34m)\u001b[0m\u001b[0;34m\u001b[0m\u001b[0;34m\u001b[0m\u001b[0m\n\u001b[0m\u001b[1;32m    606\u001b[0m \u001b[0;34m\u001b[0m\u001b[0m\n\u001b[1;32m    607\u001b[0m         \u001b[0;32mfor\u001b[0m \u001b[0mvar\u001b[0m\u001b[0;34m,\u001b[0m \u001b[0mcls\u001b[0m \u001b[0;32min\u001b[0m \u001b[0mself\u001b[0m\u001b[0;34m.\u001b[0m\u001b[0m_semantic_mappings\u001b[0m\u001b[0;34m.\u001b[0m\u001b[0mitems\u001b[0m\u001b[0;34m(\u001b[0m\u001b[0;34m)\u001b[0m\u001b[0;34m:\u001b[0m\u001b[0;34m\u001b[0m\u001b[0;34m\u001b[0m\u001b[0m\n",
            "\u001b[0;32m/usr/local/lib/python3.8/dist-packages/seaborn/_core.py\u001b[0m in \u001b[0;36massign_variables\u001b[0;34m(self, data, variables)\u001b[0m\n\u001b[1;32m    666\u001b[0m         \u001b[0;32melse\u001b[0m\u001b[0;34m:\u001b[0m\u001b[0;34m\u001b[0m\u001b[0;34m\u001b[0m\u001b[0m\n\u001b[1;32m    667\u001b[0m             \u001b[0mself\u001b[0m\u001b[0;34m.\u001b[0m\u001b[0minput_format\u001b[0m \u001b[0;34m=\u001b[0m \u001b[0;34m\"long\"\u001b[0m\u001b[0;34m\u001b[0m\u001b[0;34m\u001b[0m\u001b[0m\n\u001b[0;32m--> 668\u001b[0;31m             plot_data, variables = self._assign_variables_longform(\n\u001b[0m\u001b[1;32m    669\u001b[0m                 \u001b[0mdata\u001b[0m\u001b[0;34m,\u001b[0m \u001b[0;34m**\u001b[0m\u001b[0mvariables\u001b[0m\u001b[0;34m,\u001b[0m\u001b[0;34m\u001b[0m\u001b[0;34m\u001b[0m\u001b[0m\n\u001b[1;32m    670\u001b[0m             )\n",
            "\u001b[0;32m/usr/local/lib/python3.8/dist-packages/seaborn/_core.py\u001b[0m in \u001b[0;36m_assign_variables_longform\u001b[0;34m(self, data, **kwargs)\u001b[0m\n\u001b[1;32m    901\u001b[0m \u001b[0;34m\u001b[0m\u001b[0m\n\u001b[1;32m    902\u001b[0m                 \u001b[0merr\u001b[0m \u001b[0;34m=\u001b[0m \u001b[0;34mf\"Could not interpret value `{val}` for parameter `{key}`\"\u001b[0m\u001b[0;34m\u001b[0m\u001b[0;34m\u001b[0m\u001b[0m\n\u001b[0;32m--> 903\u001b[0;31m                 \u001b[0;32mraise\u001b[0m \u001b[0mValueError\u001b[0m\u001b[0;34m(\u001b[0m\u001b[0merr\u001b[0m\u001b[0;34m)\u001b[0m\u001b[0;34m\u001b[0m\u001b[0;34m\u001b[0m\u001b[0m\n\u001b[0m\u001b[1;32m    904\u001b[0m \u001b[0;34m\u001b[0m\u001b[0m\n\u001b[1;32m    905\u001b[0m             \u001b[0;32melse\u001b[0m\u001b[0;34m:\u001b[0m\u001b[0;34m\u001b[0m\u001b[0;34m\u001b[0m\u001b[0m\n",
            "\u001b[0;31mValueError\u001b[0m: Could not interpret value `HeartDisease` for parameter `hue`"
          ]
        },
        {
          "output_type": "display_data",
          "data": {
            "text/plain": [
              "<Figure size 1296x1296 with 1 Axes>"
            ],
            "image/png": "[encoded data removed]"
          },
          "metadata": {}
        }
      ]
    },
    {
      "cell_type": "markdown",
      "source": [
        "# 1. Logistic Regression"
      ],
      "metadata": {
        "id": "WJH83qEScEYP"
      }
    },
    {
      "cell_type": "markdown",
      "source": [
        "**1.1 Train and Validation Data**"
      ],
      "metadata": {
        "id": "DNFjaPk0cIkj"
      }
    },
    {
      "cell_type": "markdown",
      "source": [
        "Hyperparameter tunning"
      ],
      "metadata": {
        "id": "xixAuqTecOxm"
      }
    },
    {
      "cell_type": "code",
      "source": [
        "c_values = [0.01, 0.1, 0.5, 1.0, 1.5, 10, 100]\n",
        "\n",
        "for C in c_values:\n",
        "\n",
        "    logistic_reg = LogisticRegression(solver=\"liblinear\", C=C, max_iter=100, random_state=42)\n",
        "    logistic_reg.fit(X=X_train, y=y_train)\n",
        "    y_pred = logistic_reg.predict(X=X_val)\n",
        "    auc_score = roc_auc_score(y_true=y_val.values, y_score=y_pred)\n",
        "    print(f\"C: {C} | score: {auc_score*100}\")"
      ],
      "metadata": {
        "colab": {
          "base_uri": "https://localhost:8080/"
        },
        "id": "Cwy48BkVcSMF",
        "outputId": "4bb57a29-7ac7-4541-8791-6e66cafbc28e"
      },
      "execution_count": 80,
      "outputs": [
        {
          "output_type": "stream",
          "name": "stdout",
          "text": [
            "C: 0.01 | score: 81.74431202600215\n",
            "C: 0.1 | score: 83.73058866016613\n",
            "C: 0.5 | score: 86.35789093535571\n",
            "C: 1.0 | score: 86.35789093535571\n",
            "C: 1.5 | score: 86.35789093535571\n",
            "C: 10 | score: 84.94944023113035\n",
            "C: 100 | score: 84.94944023113035\n"
          ]
        }
      ]
    },
    {
      "cell_type": "code",
      "source": [
        "logistic_reg = LogisticRegression(solver=\"liblinear\", C=0.5, max_iter=100, random_state=42)\n",
        "logistic_reg.fit(X=X_train, y=y_train)\n",
        "y_pred = logistic_reg.predict(X=X_val)\n",
        "auc_score = roc_auc_score(y_true=y_val.values, y_score=y_pred)\n",
        "print(auc_score*100)"
      ],
      "metadata": {
        "colab": {
          "base_uri": "https://localhost:8080/"
        },
        "id": "Rdrq1e-ycYAl",
        "outputId": "2108cc23-26ce-45ca-a371-372fd8723368"
      },
      "execution_count": 81,
      "outputs": [
        {
          "output_type": "stream",
          "name": "stdout",
          "text": [
            "86.35789093535571\n"
          ]
        }
      ]
    },
    {
      "cell_type": "markdown",
      "source": [
        "**Confusion Matrix**"
      ],
      "metadata": {
        "id": "HGsZSIXkcbZO"
      }
    },
    {
      "cell_type": "code",
      "source": [
        "sns.heatmap(confusion_matrix(y_true=y_val, y_pred=y_pred), annot=True)\n",
        "plt.show()"
      ],
      "metadata": {
        "colab": {
          "base_uri": "https://localhost:8080/",
          "height": 268
        },
        "id": "X92YL6Tacdz1",
        "outputId": "539fd2cd-e6c7-4f21-d45b-147f9d62addd"
      },
      "execution_count": 82,
      "outputs": [
        {
          "output_type": "display_data",
          "data": {
            "text/plain": [
              "<Figure size 432x288 with 2 Axes>"
            ],
            "image/png": "[encoded data removed]"
          },
          "metadata": {}
        }
      ]
    },
    {
      "cell_type": "markdown",
      "source": [
        "**Classification Report**"
      ],
      "metadata": {
        "id": "MrHZnbHkcgY_"
      }
    },
    {
      "cell_type": "code",
      "source": [
        "\n",
        "print(classification_report(y_true=y_val, y_pred=y_pred))"
      ],
      "metadata": {
        "colab": {
          "base_uri": "https://localhost:8080/"
        },
        "id": "NKEI74FrcjJn",
        "outputId": "86be6a2f-7d56-40f7-df40-63e7ee6db584"
      },
      "execution_count": 83,
      "outputs": [
        {
          "output_type": "stream",
          "name": "stdout",
          "text": [
            "              precision    recall  f1-score   support\n",
            "\n",
            "           0       0.85      0.91      0.88        78\n",
            "           1       0.89      0.82      0.85        71\n",
            "\n",
            "    accuracy                           0.87       149\n",
            "   macro avg       0.87      0.86      0.86       149\n",
            "weighted avg       0.87      0.87      0.87       149\n",
            "\n"
          ]
        }
      ]
    },
    {
      "cell_type": "markdown",
      "source": [
        "ROC Curve"
      ],
      "metadata": {
        "id": "GzuU8fz6clBI"
      }
    },
    {
      "cell_type": "code",
      "source": [
        "plot_roc_curve(model=logistic_reg, \n",
        "               data1=(X_val, y_val), \n",
        "               data1_label=\"Validation\",\n",
        "               data2=(X_train, y_train),\n",
        "               data2_label=\"Train\",\n",
        "               title=\"LogisticRegression ROC Curve\")"
      ],
      "metadata": {
        "colab": {
          "base_uri": "https://localhost:8080/",
          "height": 301
        },
        "id": "Ki79X5-Vcm0i",
        "outputId": "8945c263-92a5-4531-ec38-0992311c698e"
      },
      "execution_count": 84,
      "outputs": [
        {
          "output_type": "display_data",
          "data": {
            "text/plain": [
              "<Figure size 432x288 with 1 Axes>"
            ],
            "image/png": "[encoded data removed]"
          },
          "metadata": {}
        }
      ]
    },
    {
      "cell_type": "markdown",
      "source": [
        "#2.  Decision Tree Classifier"
      ],
      "metadata": {
        "id": "PY-UconP37rM"
      }
    },
    {
      "cell_type": "markdown",
      "source": [
        "**2.1. Train and Validation Data**"
      ],
      "metadata": {
        "id": "WQteokCa4BEs"
      }
    },
    {
      "cell_type": "code",
      "source": [
        "\n",
        "dt = DecisionTreeClassifier(random_state=42)"
      ],
      "metadata": {
        "id": "YuWfbuEC4QNX"
      },
      "execution_count": 85,
      "outputs": []
    },
    {
      "cell_type": "code",
      "source": [
        "dt.fit(X=X_train, y=y_train)"
      ],
      "metadata": {
        "colab": {
          "base_uri": "https://localhost:8080/"
        },
        "id": "XbbS8pHr4S6-",
        "outputId": "a2940494-93e7-4eac-969c-309c9fbc8fa1"
      },
      "execution_count": 86,
      "outputs": [
        {
          "output_type": "execute_result",
          "data": {
            "text/plain": [
              "DecisionTreeClassifier(random_state=42)"
            ]
          },
          "metadata": {},
          "execution_count": 86
        }
      ]
    },
    {
      "cell_type": "code",
      "source": [
        "y_pred = dt.predict(X=X_val)\n",
        "auc_score = roc_auc_score(y_true=y_val.values, y_score=y_pred)\n",
        "print(auc_score*100)"
      ],
      "metadata": {
        "colab": {
          "base_uri": "https://localhost:8080/"
        },
        "id": "AQ4Pu18u4WEl",
        "outputId": "ff0859ab-2d81-4de5-b908-695626898b81"
      },
      "execution_count": 87,
      "outputs": [
        {
          "output_type": "stream",
          "name": "stdout",
          "text": [
            "81.04008667388949\n"
          ]
        }
      ]
    },
    {
      "cell_type": "markdown",
      "source": [
        "Hyperparemeters tunning"
      ],
      "metadata": {
        "id": "lFWjXW6x4Xve"
      }
    },
    {
      "cell_type": "code",
      "source": [
        "criterion_list = [\"gini\", \"entropy\"]\n",
        "\n",
        "for criterion in criterion_list:\n",
        "    \n",
        "    dt = DecisionTreeClassifier(criterion=criterion, random_state=42)\n",
        "    dt.fit(X=X_train, y=y_train)\n",
        "    y_pred = dt.predict(X=X_val)\n",
        "    auc_score = roc_auc_score(y_true=y_val.values, y_score=y_pred)\n",
        "    print(f\"criterion: {criterion} | score: {auc_score}\")"
      ],
      "metadata": {
        "colab": {
          "base_uri": "https://localhost:8080/"
        },
        "id": "wkTHhNiq4aX9",
        "outputId": "28f5e254-1257-4eef-c9ea-1cb819446db9"
      },
      "execution_count": 88,
      "outputs": [
        {
          "output_type": "stream",
          "name": "stdout",
          "text": [
            "criterion: gini | score: 0.8104008667388949\n",
            "criterion: entropy | score: 0.755958829902492\n"
          ]
        }
      ]
    },
    {
      "cell_type": "code",
      "source": [
        "max_depth_list = [1,2,3,4,5,6,7,8,9,10,15,20,25,50,100,200]\n",
        "\n",
        "for max_depth in max_depth_list:\n",
        "    \n",
        "    dt = DecisionTreeClassifier(criterion=\"gini\", max_depth=max_depth, random_state=42)\n",
        "    dt.fit(X=X_train, y=y_train)\n",
        "    y_pred = dt.predict(X=X_val)\n",
        "    auc_score = roc_auc_score(y_true=y_val.values, y_score=y_pred)\n",
        "    print(f\"max_depth: {max_depth} | score: {auc_score}\")"
      ],
      "metadata": {
        "colab": {
          "base_uri": "https://localhost:8080/"
        },
        "id": "-YfXwftp-BO6",
        "outputId": "6c8bca96-a166-4a5f-f0f4-59bd20f9d686"
      },
      "execution_count": 89,
      "outputs": [
        {
          "output_type": "stream",
          "name": "stdout",
          "text": [
            "max_depth: 1 | score: 0.7463885879378839\n",
            "max_depth: 2 | score: 0.8077825929938606\n",
            "max_depth: 3 | score: 0.8584326471650415\n",
            "max_depth: 4 | score: 0.8366738894907908\n",
            "max_depth: 5 | score: 0.8097688696280245\n",
            "max_depth: 6 | score: 0.8232213795594077\n",
            "max_depth: 7 | score: 0.8085048754062838\n",
            "max_depth: 8 | score: 0.8232213795594077\n",
            "max_depth: 9 | score: 0.8161791260382809\n",
            "max_depth: 10 | score: 0.7892741061755146\n",
            "max_depth: 15 | score: 0.8104008667388949\n",
            "max_depth: 20 | score: 0.8104008667388949\n",
            "max_depth: 25 | score: 0.8104008667388949\n",
            "max_depth: 50 | score: 0.8104008667388949\n",
            "max_depth: 100 | score: 0.8104008667388949\n",
            "max_depth: 200 | score: 0.8104008667388949\n"
          ]
        }
      ]
    },
    {
      "cell_type": "code",
      "source": [
        "min_samples_leaf_list = [1,2,3,4,5,6,7,8,9,10,15,20,25,50,100,200]\n",
        "\n",
        "for min_samples_leaf in min_samples_leaf_list:\n",
        "    \n",
        "    dt = DecisionTreeClassifier(criterion=\"gini\", max_depth=3, min_samples_leaf=min_samples_leaf, random_state=42)\n",
        "    dt.fit(X=X_train, y=y_train)\n",
        "    y_pred = dt.predict(X=X_val)\n",
        "    auc_score = roc_auc_score(y_true=y_val.values, y_score=y_pred)\n",
        "    print(f\"min_samples_leaf: {min_samples_leaf} | score: {auc_score}\")"
      ],
      "metadata": {
        "colab": {
          "base_uri": "https://localhost:8080/"
        },
        "id": "pt1N9cwu-Dpl",
        "outputId": "92424eb2-054c-403e-a03e-567cb21aad6a"
      },
      "execution_count": 90,
      "outputs": [
        {
          "output_type": "stream",
          "name": "stdout",
          "text": [
            "min_samples_leaf: 1 | score: 0.8584326471650415\n",
            "min_samples_leaf: 2 | score: 0.8584326471650415\n",
            "min_samples_leaf: 3 | score: 0.8584326471650415\n",
            "min_samples_leaf: 4 | score: 0.8584326471650415\n",
            "min_samples_leaf: 5 | score: 0.8584326471650415\n",
            "min_samples_leaf: 6 | score: 0.8584326471650415\n",
            "min_samples_leaf: 7 | score: 0.8315276273022751\n",
            "min_samples_leaf: 8 | score: 0.8315276273022751\n",
            "min_samples_leaf: 9 | score: 0.8315276273022751\n",
            "min_samples_leaf: 10 | score: 0.8315276273022751\n",
            "min_samples_leaf: 15 | score: 0.8379378837125316\n",
            "min_samples_leaf: 20 | score: 0.8263813651137595\n",
            "min_samples_leaf: 25 | score: 0.8263813651137595\n",
            "min_samples_leaf: 50 | score: 0.8077825929938606\n",
            "min_samples_leaf: 100 | score: 0.7463885879378839\n",
            "min_samples_leaf: 200 | score: 0.8033586132177681\n"
          ]
        }
      ]
    },
    {
      "cell_type": "code",
      "source": [
        "dt = DecisionTreeClassifier(criterion=\"gini\", max_depth=3, min_samples_leaf=1, random_state=42)\n",
        "dt.fit(X=X_train, y=y_train)\n",
        "y_pred = dt.predict(X=X_val)\n",
        "auc_score = roc_auc_score(y_true=y_val.values, y_score=y_pred)\n",
        "print(auc_score*100)"
      ],
      "metadata": {
        "colab": {
          "base_uri": "https://localhost:8080/"
        },
        "id": "9ODJdrq3-FLu",
        "outputId": "30b39844-17e1-4868-d8b4-603a5afbc3bb"
      },
      "execution_count": 91,
      "outputs": [
        {
          "output_type": "stream",
          "name": "stdout",
          "text": [
            "85.84326471650415\n"
          ]
        }
      ]
    },
    {
      "cell_type": "markdown",
      "source": [
        "**Confusion matrix**"
      ],
      "metadata": {
        "id": "90r7z9wC-GtV"
      }
    },
    {
      "cell_type": "code",
      "source": [
        "sns.heatmap(confusion_matrix(y_true=y_val, y_pred=y_pred), annot=True)\n",
        "plt.show()"
      ],
      "metadata": {
        "colab": {
          "base_uri": "https://localhost:8080/",
          "height": 268
        },
        "id": "Dc-psT9D-JHj",
        "outputId": "31a1e2cb-64fe-439b-973f-0b5e565d7be8"
      },
      "execution_count": 92,
      "outputs": [
        {
          "output_type": "display_data",
          "data": {
            "text/plain": [
              "<Figure size 432x288 with 2 Axes>"
            ],
            "image/png": "[encoded data removed]"
          },
          "metadata": {}
        }
      ]
    },
    {
      "cell_type": "markdown",
      "source": [
        "**Classification report**"
      ],
      "metadata": {
        "id": "N8vyYnn7-Kkx"
      }
    },
    {
      "cell_type": "code",
      "source": [
        "\n",
        "print(classification_report(y_true=y_val, y_pred=y_pred))"
      ],
      "metadata": {
        "colab": {
          "base_uri": "https://localhost:8080/"
        },
        "id": "pLpXyq2g-L1U",
        "outputId": "7c79eaba-9ce7-4195-ef04-f70a98c664dc"
      },
      "execution_count": 93,
      "outputs": [
        {
          "output_type": "stream",
          "name": "stdout",
          "text": [
            "              precision    recall  f1-score   support\n",
            "\n",
            "           0       0.86      0.87      0.87        78\n",
            "           1       0.86      0.85      0.85        71\n",
            "\n",
            "    accuracy                           0.86       149\n",
            "   macro avg       0.86      0.86      0.86       149\n",
            "weighted avg       0.86      0.86      0.86       149\n",
            "\n"
          ]
        }
      ]
    },
    {
      "cell_type": "markdown",
      "source": [
        "**ROC curve**"
      ],
      "metadata": {
        "id": "8QfXRP14-NEE"
      }
    },
    {
      "cell_type": "code",
      "source": [
        "plot_roc_curve(model=dt, \n",
        "               data1=(X_val, y_val), \n",
        "               data1_label=\"Validation\",\n",
        "               data2=(X_train, y_train),\n",
        "               data2_label=\"Train\",\n",
        "               title=\"DecisionTreeClassifier ROC Curve\")"
      ],
      "metadata": {
        "colab": {
          "base_uri": "https://localhost:8080/",
          "height": 301
        },
        "id": "m0VOeQZF-N9D",
        "outputId": "dfe5978e-6b5d-4ff6-b5c7-654a4fadc1ed"
      },
      "execution_count": 94,
      "outputs": [
        {
          "output_type": "display_data",
          "data": {
            "text/plain": [
              "<Figure size 432x288 with 1 Axes>"
            ],
            "image/png": "[encoded data removed]"
          },
          "metadata": {}
        }
      ]
    },
    {
      "cell_type": "markdown",
      "source": [
        "**2.2. Full Train and Test Data**"
      ],
      "metadata": {
        "id": "mJeTCQTi-SkO"
      }
    },
    {
      "cell_type": "code",
      "source": [
        "\n",
        "dt = DecisionTreeClassifier(criterion=\"gini\", max_depth=3, min_samples_leaf=1, random_state=42)\n",
        "dt.fit(X=X_full_train, y=y_full_train)\n",
        "y_pred = dt.predict(X=X_test)\n",
        "auc_score = roc_auc_score(y_true=y_test.values, y_score=y_pred)\n",
        "print(auc_score*100)"
      ],
      "metadata": {
        "colab": {
          "base_uri": "https://localhost:8080/"
        },
        "id": "mkyZdFc0-V4b",
        "outputId": "6dfa10ff-2d68-4d1a-f670-5185a8a78a08"
      },
      "execution_count": 95,
      "outputs": [
        {
          "output_type": "stream",
          "name": "stdout",
          "text": [
            "90.00713139597076\n"
          ]
        }
      ]
    },
    {
      "cell_type": "markdown",
      "source": [
        "**Confusion matrix**"
      ],
      "metadata": {
        "id": "wxPNcgSM-ZJ1"
      }
    },
    {
      "cell_type": "code",
      "source": [
        "sns.heatmap(confusion_matrix(y_true=y_test, y_pred=y_pred), annot=True)\n",
        "plt.show()"
      ],
      "metadata": {
        "colab": {
          "base_uri": "https://localhost:8080/",
          "height": 268
        },
        "id": "VdD8G1TT-Xxv",
        "outputId": "e0359ec9-9313-4979-c8ce-19af62ce4aa7"
      },
      "execution_count": 96,
      "outputs": [
        {
          "output_type": "display_data",
          "data": {
            "text/plain": [
              "<Figure size 432x288 with 2 Axes>"
            ],
            "image/png": "[encoded data removed]"
          },
          "metadata": {}
        }
      ]
    },
    {
      "cell_type": "code",
      "source": [
        "print(classification_report(y_true=y_test, y_pred=y_pred))"
      ],
      "metadata": {
        "colab": {
          "base_uri": "https://localhost:8080/"
        },
        "id": "0DYZeiTJ-cx_",
        "outputId": "5112948b-f56a-4399-bcc5-d3f8dbb6df9a"
      },
      "execution_count": 97,
      "outputs": [
        {
          "output_type": "stream",
          "name": "stdout",
          "text": [
            "              precision    recall  f1-score   support\n",
            "\n",
            "           0       0.89      0.90      0.90        71\n",
            "           1       0.91      0.90      0.90        79\n",
            "\n",
            "    accuracy                           0.90       150\n",
            "   macro avg       0.90      0.90      0.90       150\n",
            "weighted avg       0.90      0.90      0.90       150\n",
            "\n"
          ]
        }
      ]
    },
    {
      "cell_type": "code",
      "source": [
        "plot_roc_curve(model=dt, \n",
        "               data1=(X_test, y_test), \n",
        "               data1_label=\"Test\",\n",
        "               data2=(X_full_train, y_full_train),\n",
        "               data2_label=\"Full Train\",\n",
        "               title=\"DecisionTreeClassifier ROC Curve\")"
      ],
      "metadata": {
        "colab": {
          "base_uri": "https://localhost:8080/",
          "height": 301
        },
        "id": "52tN6ckX-eDr",
        "outputId": "b9f7fed6-f200-43b4-cd3f-0e8bfb74f15c"
      },
      "execution_count": 98,
      "outputs": [
        {
          "output_type": "display_data",
          "data": {
            "text/plain": [
              "<Figure size 432x288 with 1 Axes>"
            ],
            "image/png": "[encoded data removed]"
          },
          "metadata": {}
        }
      ]
    },
    {
      "cell_type": "markdown",
      "source": [
        "#3. Random Forest Classifier"
      ],
      "metadata": {
        "id": "4RPbIDw2-g-q"
      }
    },
    {
      "cell_type": "markdown",
      "source": [
        "**3.1. Train and Validation Data**"
      ],
      "metadata": {
        "id": "Dp8ln5_s-l1J"
      }
    },
    {
      "cell_type": "code",
      "source": [
        "rf = RandomForestClassifier(n_estimators=100, random_state=42, n_jobs=-1)"
      ],
      "metadata": {
        "id": "8MM5Rj6n-lCh"
      },
      "execution_count": 99,
      "outputs": []
    },
    {
      "cell_type": "code",
      "source": [
        "rf.fit(X=X_train, y=y_train)"
      ],
      "metadata": {
        "colab": {
          "base_uri": "https://localhost:8080/"
        },
        "id": "boExBOb_-tue",
        "outputId": "e59ef424-89c1-42de-f98b-22f2c1b4b609"
      },
      "execution_count": 100,
      "outputs": [
        {
          "output_type": "execute_result",
          "data": {
            "text/plain": [
              "RandomForestClassifier(n_jobs=-1, random_state=42)"
            ]
          },
          "metadata": {},
          "execution_count": 100
        }
      ]
    },
    {
      "cell_type": "code",
      "source": [
        "y_pred = rf.predict(X=X_val)\n",
        "auc_score = roc_auc_score(y_true=y_val.values, y_score=y_pred)\n",
        "print(auc_score*100)"
      ],
      "metadata": {
        "colab": {
          "base_uri": "https://localhost:8080/"
        },
        "id": "w242jDvJ-vVW",
        "outputId": "c7c500f3-6de2-4bdc-9ed6-5a1eff6f6230"
      },
      "execution_count": 101,
      "outputs": [
        {
          "output_type": "stream",
          "name": "stdout",
          "text": [
            "83.02636330805345\n"
          ]
        }
      ]
    },
    {
      "cell_type": "markdown",
      "source": [
        "**Hyperparameters tunning**"
      ],
      "metadata": {
        "id": "u5p8FW_j-zt6"
      }
    },
    {
      "cell_type": "code",
      "source": [
        "criterion_list = [\"gini\", \"entropy\"]\n",
        "\n",
        "for criterion in criterion_list:\n",
        "    \n",
        "    rf = RandomForestClassifier(n_estimators=100, criterion=criterion, random_state=42, n_jobs=-1)\n",
        "    rf.fit(X=X_train, y=y_train)\n",
        "    y_pred = rf.predict(X=X_val)\n",
        "    auc_score = roc_auc_score(y_true=y_val.values, y_score=y_pred)\n",
        "    print(f\"criterion: {criterion} | score: {auc_score*100}\")\n",
        "    "
      ],
      "metadata": {
        "colab": {
          "base_uri": "https://localhost:8080/"
        },
        "id": "E-DWnTs2-w-d",
        "outputId": "a359d0c0-f8e4-4126-af47-c79cb1568e46"
      },
      "execution_count": 102,
      "outputs": [
        {
          "output_type": "stream",
          "name": "stdout",
          "text": [
            "criterion: gini | score: 83.02636330805345\n",
            "criterion: entropy | score: 84.30841459010472\n"
          ]
        }
      ]
    },
    {
      "cell_type": "code",
      "source": [
        "n_estimators_list = [1, 5, 10, 25, 50, 75, 100, 250, 500, 1000, 2000]\n",
        "\n",
        "for n_estimator in n_estimators_list:\n",
        "    \n",
        "    rf = RandomForestClassifier(n_estimators=n_estimator, max_depth=5, criterion=\"entropy\", random_state=42, n_jobs=-1)\n",
        "    rf.fit(X=X_train, y=y_train)\n",
        "    y_pred = rf.predict(X=X_val)\n",
        "    auc_score = roc_auc_score(y_true=y_val.values, y_score=y_pred)\n",
        "    print(f\"n_estimator: {n_estimator} | score: {auc_score}\")"
      ],
      "metadata": {
        "colab": {
          "base_uri": "https://localhost:8080/"
        },
        "id": "ofWu5MP5-3ve",
        "outputId": "e6134993-4221-42f0-bb92-1adcc9738075"
      },
      "execution_count": 103,
      "outputs": [
        {
          "output_type": "stream",
          "name": "stdout",
          "text": [
            "n_estimator: 1 | score: 0.7963163596966414\n",
            "n_estimator: 5 | score: 0.8373058866016613\n",
            "n_estimator: 10 | score: 0.8565366558324304\n",
            "n_estimator: 25 | score: 0.8366738894907908\n",
            "n_estimator: 50 | score: 0.8507583965330444\n",
            "n_estimator: 75 | score: 0.8507583965330444\n",
            "n_estimator: 100 | score: 0.8507583965330444\n",
            "n_estimator: 250 | score: 0.8507583965330444\n",
            "n_estimator: 500 | score: 0.8507583965330444\n",
            "n_estimator: 1000 | score: 0.8507583965330444\n",
            "n_estimator: 2000 | score: 0.8507583965330444\n"
          ]
        }
      ]
    },
    {
      "cell_type": "code",
      "source": [
        "max_depth_list = [1,2,3,4,5,10,15,20,25,50,75,100,200]\n",
        "\n",
        "for max_depth in max_depth_list:\n",
        "    \n",
        "    rf = RandomForestClassifier(n_estimators=10, criterion=\"entropy\", max_depth=max_depth, random_state=42, n_jobs=-1)\n",
        "    rf.fit(X=X_train, y=y_train)\n",
        "    y_pred = rf.predict(X=X_val)\n",
        "    auc_score = roc_auc_score(y_true=y_val.values, y_score=y_pred)\n",
        "    print(f\"max_depth: {max_depth} | score: {auc_score}\")"
      ],
      "metadata": {
        "colab": {
          "base_uri": "https://localhost:8080/"
        },
        "id": "8SmZbwlR-6DO",
        "outputId": "1cf0b89c-2451-4eb8-eefd-db4934072723"
      },
      "execution_count": 104,
      "outputs": [
        {
          "output_type": "stream",
          "name": "stdout",
          "text": [
            "max_depth: 1 | score: 0.8424521487901768\n",
            "max_depth: 2 | score: 0.8180751173708921\n",
            "max_depth: 3 | score: 0.8373058866016613\n",
            "max_depth: 4 | score: 0.844348140122788\n",
            "max_depth: 5 | score: 0.8565366558324304\n",
            "max_depth: 10 | score: 0.8308956301914049\n",
            "max_depth: 15 | score: 0.8161791260382809\n",
            "max_depth: 20 | score: 0.8232213795594077\n",
            "max_depth: 25 | score: 0.8232213795594077\n",
            "max_depth: 50 | score: 0.8232213795594077\n",
            "max_depth: 75 | score: 0.8232213795594077\n",
            "max_depth: 100 | score: 0.8232213795594077\n",
            "max_depth: 200 | score: 0.8232213795594077\n"
          ]
        }
      ]
    },
    {
      "cell_type": "code",
      "source": [
        "rf = RandomForestClassifier(n_estimators=10, criterion=\"entropy\", max_depth=5, max_features=\"sqrt\", random_state=42, n_jobs=-1)\n",
        "rf.fit(X=X_train, y=y_train)\n",
        "y_pred = rf.predict(X=X_val)\n",
        "auc_score = roc_auc_score(y_true=y_val.values, y_score=y_pred)\n",
        "print(auc_score)"
      ],
      "metadata": {
        "colab": {
          "base_uri": "https://localhost:8080/"
        },
        "id": "cNp2TBCE-7q9",
        "outputId": "2f17005f-d2ae-406c-b643-89d4b460b506"
      },
      "execution_count": 105,
      "outputs": [
        {
          "output_type": "stream",
          "name": "stdout",
          "text": [
            "0.8565366558324304\n"
          ]
        }
      ]
    },
    {
      "cell_type": "markdown",
      "source": [
        "**Confusion matrix**"
      ],
      "metadata": {
        "id": "uUiJQA18--zz"
      }
    },
    {
      "cell_type": "code",
      "source": [
        "sns.heatmap(confusion_matrix(y_true=y_val, y_pred=y_pred), annot=True)\n",
        "plt.show()"
      ],
      "metadata": {
        "colab": {
          "base_uri": "https://localhost:8080/",
          "height": 268
        },
        "id": "c69_fEba-9f-",
        "outputId": "7703b212-8c0b-4223-ec62-34eabd613800"
      },
      "execution_count": 106,
      "outputs": [
        {
          "output_type": "display_data",
          "data": {
            "text/plain": [
              "<Figure size 432x288 with 2 Axes>"
            ],
            "image/png": "[encoded data removed]"
          },
          "metadata": {}
        }
      ]
    },
    {
      "cell_type": "markdown",
      "source": [
        "**Classification Report**"
      ],
      "metadata": {
        "id": "SmYs4ZCh_Bn2"
      }
    },
    {
      "cell_type": "code",
      "source": [
        "print(classification_report(y_true=y_val, y_pred=y_pred))\n"
      ],
      "metadata": {
        "colab": {
          "base_uri": "https://localhost:8080/"
        },
        "id": "dM2xOYCe_EU4",
        "outputId": "b2db97fd-8fdd-4d8c-d33f-6d09ec5d029c"
      },
      "execution_count": 107,
      "outputs": [
        {
          "output_type": "stream",
          "name": "stdout",
          "text": [
            "              precision    recall  f1-score   support\n",
            "\n",
            "           0       0.84      0.91      0.87        78\n",
            "           1       0.89      0.80      0.84        71\n",
            "\n",
            "    accuracy                           0.86       149\n",
            "   macro avg       0.86      0.86      0.86       149\n",
            "weighted avg       0.86      0.86      0.86       149\n",
            "\n"
          ]
        }
      ]
    },
    {
      "cell_type": "markdown",
      "source": [
        "**ROC Curve**"
      ],
      "metadata": {
        "id": "z9I45eq-_FpA"
      }
    },
    {
      "cell_type": "code",
      "source": [
        "\n",
        "plot_roc_curve(model=rf, \n",
        "               data1=(X_val, y_val), \n",
        "               data1_label=\"Validation\",\n",
        "               data2=(X_full_train, y_full_train),\n",
        "               data2_label=\"Train\",\n",
        "               title=\"RandomForestClassifer ROC Curve\")"
      ],
      "metadata": {
        "colab": {
          "base_uri": "https://localhost:8080/",
          "height": 301
        },
        "id": "8mvhhXid_HiA",
        "outputId": "258171c0-b9af-4f70-e871-e94672bcc17e"
      },
      "execution_count": 108,
      "outputs": [
        {
          "output_type": "display_data",
          "data": {
            "text/plain": [
              "<Figure size 432x288 with 1 Axes>"
            ],
            "image/png": "[encoded data removed]"
          },
          "metadata": {}
        }
      ]
    },
    {
      "cell_type": "markdown",
      "source": [
        "**3.2. Full Train and Test Data**"
      ],
      "metadata": {
        "id": "Mi_oMF8S_K5R"
      }
    },
    {
      "cell_type": "code",
      "source": [
        "rf = RandomForestClassifier(n_estimators=10, criterion=\"gini\", max_depth=5, max_features=\"sqrt\", random_state=42, n_jobs=-1)\n",
        "rf.fit(X=X_full_train, y=y_full_train)\n",
        "y_pred = rf.predict(X=X_test)\n",
        "auc_score_rfc = roc_auc_score(y_true=y_test.values, y_score=y_pred)\n",
        "print(auc_score_rfc*100)"
      ],
      "metadata": {
        "colab": {
          "base_uri": "https://localhost:8080/"
        },
        "id": "jRtyROxC_OlN",
        "outputId": "e6fb6cb4-d186-43d1-8dce-946823748c23"
      },
      "execution_count": 109,
      "outputs": [
        {
          "output_type": "stream",
          "name": "stdout",
          "text": [
            "86.35229096095561\n"
          ]
        }
      ]
    },
    {
      "cell_type": "markdown",
      "source": [
        "**Confusion Matrix**"
      ],
      "metadata": {
        "id": "bTx_il1__Q1o"
      }
    },
    {
      "cell_type": "code",
      "source": [
        "sns.heatmap(confusion_matrix(y_true=y_test, y_pred=y_pred), annot=True)\n",
        "plt.show()"
      ],
      "metadata": {
        "colab": {
          "base_uri": "https://localhost:8080/",
          "height": 268
        },
        "id": "kOSi7wh4_O5t",
        "outputId": "bcdc9113-575a-4155-d734-a057d6f1cb11"
      },
      "execution_count": 110,
      "outputs": [
        {
          "output_type": "display_data",
          "data": {
            "text/plain": [
              "<Figure size 432x288 with 2 Axes>"
            ],
            "image/png": "[encoded data removed]"
          },
          "metadata": {}
        }
      ]
    },
    {
      "cell_type": "markdown",
      "source": [
        "**Classification Report**"
      ],
      "metadata": {
        "id": "F_MTCI2f_T7a"
      }
    },
    {
      "cell_type": "code",
      "source": [
        "print(classification_report(y_true=y_test, y_pred=y_pred))"
      ],
      "metadata": {
        "colab": {
          "base_uri": "https://localhost:8080/"
        },
        "id": "IsfPfXll_XaF",
        "outputId": "ee218f91-b026-4b4e-cd42-fb1e6dfeeb1e"
      },
      "execution_count": 111,
      "outputs": [
        {
          "output_type": "stream",
          "name": "stdout",
          "text": [
            "              precision    recall  f1-score   support\n",
            "\n",
            "           0       0.80      0.93      0.86        71\n",
            "           1       0.93      0.80      0.86        79\n",
            "\n",
            "    accuracy                           0.86       150\n",
            "   macro avg       0.87      0.86      0.86       150\n",
            "weighted avg       0.87      0.86      0.86       150\n",
            "\n"
          ]
        }
      ]
    },
    {
      "cell_type": "markdown",
      "source": [
        "**ROC Curve**"
      ],
      "metadata": {
        "id": "Cfe93Kk0_Yp4"
      }
    },
    {
      "cell_type": "code",
      "source": [
        "plot_roc_curve(model=rf, \n",
        "               data1=(X_test, y_test), \n",
        "               data1_label=\"Test\",\n",
        "               data2=(X_full_train, y_full_train),\n",
        "               data2_label=\"Full Train\",\n",
        "               title=\"RandomForestClassifer ROC Curve\")"
      ],
      "metadata": {
        "colab": {
          "base_uri": "https://localhost:8080/",
          "height": 301
        },
        "id": "uYoLOIaD_Xru",
        "outputId": "e756311c-96b4-4308-af3a-5ecf9232f451"
      },
      "execution_count": 112,
      "outputs": [
        {
          "output_type": "display_data",
          "data": {
            "text/plain": [
              "<Figure size 432x288 with 1 Axes>"
            ],
            "image/png": "[encoded data removed]"
          },
          "metadata": {}
        }
      ]
    },
    {
      "cell_type": "markdown",
      "source": [
        "#4. XGB Classifier"
      ],
      "metadata": {
        "id": "XJhOTpHp_gJy"
      }
    },
    {
      "cell_type": "markdown",
      "source": [
        "**4.1. Train and Validation Data**"
      ],
      "metadata": {
        "id": "KYlDYEuY_jdx"
      }
    },
    {
      "cell_type": "code",
      "source": [
        "xgb_cl = xgb.XGBClassifier()"
      ],
      "metadata": {
        "id": "NTv9NvdG_psQ"
      },
      "execution_count": 113,
      "outputs": []
    },
    {
      "cell_type": "code",
      "source": [
        "xgb_cl.fit(X_train, y_train)"
      ],
      "metadata": {
        "colab": {
          "base_uri": "https://localhost:8080/"
        },
        "id": "D_P-HRoD_reT",
        "outputId": "88fa199b-cd19-4169-e441-dc81fb423ffe"
      },
      "execution_count": 114,
      "outputs": [
        {
          "output_type": "execute_result",
          "data": {
            "text/plain": [
              "XGBClassifier()"
            ]
          },
          "metadata": {},
          "execution_count": 114
        }
      ]
    },
    {
      "cell_type": "code",
      "source": [
        "y_pred = xgb_cl.predict(X_val)\n",
        "auc_score = roc_auc_score(y_true=y_val.values, y_score=y_pred)\n",
        "print(auc_score*100)"
      ],
      "metadata": {
        "colab": {
          "base_uri": "https://localhost:8080/"
        },
        "id": "FlxHk0WJ_t_Z",
        "outputId": "ce177c16-13b5-4d24-dd50-40cbce79665f"
      },
      "execution_count": 115,
      "outputs": [
        {
          "output_type": "stream",
          "name": "stdout",
          "text": [
            "82.96316359696641\n"
          ]
        }
      ]
    },
    {
      "cell_type": "markdown",
      "source": [
        "**Hyperparameters Tunning**"
      ],
      "metadata": {
        "id": "DOxGd1VM_zYg"
      }
    },
    {
      "cell_type": "code",
      "source": [
        "n_estimators_list = [1, 5, 10, 15, 20, 25, 50, 100, 200, 500, 1000, 2000]\n",
        "\n",
        "for n_estimator in n_estimators_list:\n",
        "    \n",
        "    xgb_cl = xgb.XGBClassifier(objective=\"binary:logistic\", \n",
        "                           n_estimators = n_estimator\n",
        "                           )\n",
        "    xgb_cl.fit(X_train, y_train)\n",
        "    y_pred = xgb_cl.predict(X_val)\n",
        "    auc_score = roc_auc_score(y_true=y_val.values, y_score=y_pred)\n",
        "    print(f\"n_estimator: {n_estimator} | score: {auc_score}\")"
      ],
      "metadata": {
        "colab": {
          "base_uri": "https://localhost:8080/"
        },
        "id": "Y6x3Xlcz_3Y_",
        "outputId": "a95f73c4-f17d-4552-b1d5-8010c530fa93"
      },
      "execution_count": 116,
      "outputs": [
        {
          "output_type": "stream",
          "name": "stdout",
          "text": [
            "n_estimator: 1 | score: 0.8584326471650415\n",
            "n_estimator: 5 | score: 0.8584326471650415\n",
            "n_estimator: 10 | score: 0.8584326471650415\n",
            "n_estimator: 15 | score: 0.844348140122788\n",
            "n_estimator: 20 | score: 0.844348140122788\n",
            "n_estimator: 25 | score: 0.8437161430119177\n",
            "n_estimator: 50 | score: 0.8437161430119177\n",
            "n_estimator: 100 | score: 0.829631635969664\n",
            "n_estimator: 200 | score: 0.8488624052004333\n",
            "n_estimator: 500 | score: 0.8219573853376669\n",
            "n_estimator: 1000 | score: 0.8085048754062838\n",
            "n_estimator: 2000 | score: 0.8155471289274105\n"
          ]
        }
      ]
    },
    {
      "cell_type": "code",
      "source": [
        "max_depth_list = [1,2,3,4,5,6,7,8,9,10,20,50]\n",
        "\n",
        "for max_depth in max_depth_list:\n",
        "    \n",
        "    xgb_cl = xgb.XGBClassifier(objective=\"binary:logistic\", \n",
        "                           n_estimators = 5,\n",
        "                           max_depth=max_depth\n",
        "                           )\n",
        "    xgb_cl.fit(X_train, y_train)\n",
        "    y_pred = xgb_cl.predict(X_val)\n",
        "    auc_score = roc_auc_score(y_true=y_val.values, y_score=y_pred)\n",
        "    print(f\"max_depth: {max_depth} | score: {auc_score}\")"
      ],
      "metadata": {
        "colab": {
          "base_uri": "https://localhost:8080/"
        },
        "id": "S9iZkACo_496",
        "outputId": "24af9186-7ae7-46f6-bb93-368c67ea3085"
      },
      "execution_count": 117,
      "outputs": [
        {
          "output_type": "stream",
          "name": "stdout",
          "text": [
            "max_depth: 1 | score: 0.7463885879378839\n",
            "max_depth: 2 | score: 0.8077825929938606\n",
            "max_depth: 3 | score: 0.8584326471650415\n",
            "max_depth: 4 | score: 0.8308956301914049\n",
            "max_depth: 5 | score: 0.7892741061755146\n",
            "max_depth: 6 | score: 0.7892741061755146\n",
            "max_depth: 7 | score: 0.7892741061755146\n",
            "max_depth: 8 | score: 0.7892741061755146\n",
            "max_depth: 9 | score: 0.7892741061755146\n",
            "max_depth: 10 | score: 0.7892741061755146\n",
            "max_depth: 20 | score: 0.7892741061755146\n",
            "max_depth: 50 | score: 0.7892741061755146\n"
          ]
        }
      ]
    },
    {
      "cell_type": "code",
      "source": [
        "learning_rate_list = [0.3, 0.29, 0.28, 0.27, 0.26, 0.25, 0.2, 0.15, 0.1, 0.01]\n",
        "\n",
        "for lr in learning_rate_list:\n",
        "    \n",
        "    xgb_cl = xgb.XGBClassifier(objective=\"binary:logistic\", \n",
        "                           learning_rate=lr,\n",
        "                           n_estimators=5,\n",
        "                           max_depth=6\n",
        "                           )\n",
        "    xgb_cl.fit(X_train, y_train)\n",
        "    y_pred = xgb_cl.predict(X_val)\n",
        "    auc_score = roc_auc_score(y_true=y_val.values, y_score=y_pred)\n",
        "    print(f\"learning rate: {lr} | score: {auc_score}\")"
      ],
      "metadata": {
        "colab": {
          "base_uri": "https://localhost:8080/"
        },
        "id": "acIY6ahi_6YJ",
        "outputId": "155d05da-d733-48ed-fb56-40db90822854"
      },
      "execution_count": 118,
      "outputs": [
        {
          "output_type": "stream",
          "name": "stdout",
          "text": [
            "learning rate: 0.3 | score: 0.8437161430119177\n",
            "learning rate: 0.29 | score: 0.8232213795594077\n",
            "learning rate: 0.28 | score: 0.8513903936439148\n",
            "learning rate: 0.27 | score: 0.8513903936439148\n",
            "learning rate: 0.26 | score: 0.8373058866016613\n",
            "learning rate: 0.25 | score: 0.8373058866016613\n",
            "learning rate: 0.2 | score: 0.8373058866016613\n",
            "learning rate: 0.15 | score: 0.8033586132177681\n",
            "learning rate: 0.1 | score: 0.7892741061755146\n",
            "learning rate: 0.01 | score: 0.7764535933550019\n"
          ]
        }
      ]
    },
    {
      "cell_type": "code",
      "source": [
        "xgb_cl = xgb.XGBClassifier(objective=\"binary:logistic\", \n",
        "                           learning_rate=0.27,\n",
        "                           n_estimators=5,\n",
        "                           max_depth=6\n",
        "                           )"
      ],
      "metadata": {
        "id": "fBYIQNxb_7zW"
      },
      "execution_count": 119,
      "outputs": []
    },
    {
      "cell_type": "code",
      "source": [
        "xgb_cl.fit(X_train, y_train)"
      ],
      "metadata": {
        "colab": {
          "base_uri": "https://localhost:8080/"
        },
        "id": "ZfJQdSd__9Vw",
        "outputId": "35136f7d-875b-47b9-a4de-20a5c8eab96e"
      },
      "execution_count": 120,
      "outputs": [
        {
          "output_type": "execute_result",
          "data": {
            "text/plain": [
              "XGBClassifier(learning_rate=0.27, max_depth=6, n_estimators=5)"
            ]
          },
          "metadata": {},
          "execution_count": 120
        }
      ]
    },
    {
      "cell_type": "code",
      "source": [
        "y_pred = xgb_cl.predict(X_val)\n",
        "auc_score = roc_auc_score(y_true=y_val.values, y_score=y_pred)\n",
        "print(auc_score*100)"
      ],
      "metadata": {
        "colab": {
          "base_uri": "https://localhost:8080/"
        },
        "id": "qq3-7Lb5_-vF",
        "outputId": "b09f8ae3-1aec-4770-aa6a-83285684c70e"
      },
      "execution_count": 121,
      "outputs": [
        {
          "output_type": "stream",
          "name": "stdout",
          "text": [
            "85.13903936439148\n"
          ]
        }
      ]
    },
    {
      "cell_type": "markdown",
      "source": [
        "**Confusion Matrix**"
      ],
      "metadata": {
        "id": "epVFusjqAA3k"
      }
    },
    {
      "cell_type": "code",
      "source": [
        "sns.heatmap(confusion_matrix(y_true=y_val, y_pred=y_pred), annot=True)\n",
        "plt.show()"
      ],
      "metadata": {
        "colab": {
          "base_uri": "https://localhost:8080/",
          "height": 268
        },
        "id": "1Ww75-SFAEIp",
        "outputId": "683a0c85-c223-4e7e-9d7e-062f81637f6b"
      },
      "execution_count": 122,
      "outputs": [
        {
          "output_type": "display_data",
          "data": {
            "text/plain": [
              "<Figure size 432x288 with 2 Axes>"
            ],
            "image/png": "[encoded data removed]"
          },
          "metadata": {}
        }
      ]
    },
    {
      "cell_type": "markdown",
      "source": [
        "**Classification Report**"
      ],
      "metadata": {
        "id": "IC--jrOMAFN_"
      }
    },
    {
      "cell_type": "code",
      "source": [
        "print(classification_report(y_true=y_val, y_pred=y_pred))"
      ],
      "metadata": {
        "colab": {
          "base_uri": "https://localhost:8080/"
        },
        "id": "nou9CreaAHXK",
        "outputId": "41f547c4-55c6-4deb-a093-b400a754a500"
      },
      "execution_count": 123,
      "outputs": [
        {
          "output_type": "stream",
          "name": "stdout",
          "text": [
            "              precision    recall  f1-score   support\n",
            "\n",
            "           0       0.85      0.87      0.86        78\n",
            "           1       0.86      0.83      0.84        71\n",
            "\n",
            "    accuracy                           0.85       149\n",
            "   macro avg       0.85      0.85      0.85       149\n",
            "weighted avg       0.85      0.85      0.85       149\n",
            "\n"
          ]
        }
      ]
    },
    {
      "cell_type": "markdown",
      "source": [
        "**ROC Curve**"
      ],
      "metadata": {
        "id": "WzK4y8U-AIeT"
      }
    },
    {
      "cell_type": "code",
      "source": [
        "plot_roc_curve(model=xgb_cl, \n",
        "               data1=(X_val, y_val), \n",
        "               data1_label=\"Validation\",\n",
        "               data2=(X_train, y_train),\n",
        "               data2_label=\"Train\",\n",
        "               title=\"XGBClassifier ROC Curve\")"
      ],
      "metadata": {
        "colab": {
          "base_uri": "https://localhost:8080/",
          "height": 301
        },
        "id": "x88qpseLAKbx",
        "outputId": "7c7b91b7-1ff4-4f6d-e1db-4439fd53f127"
      },
      "execution_count": 124,
      "outputs": [
        {
          "output_type": "display_data",
          "data": {
            "text/plain": [
              "<Figure size 432x288 with 1 Axes>"
            ],
            "image/png": "[encoded data removed]"
          },
          "metadata": {}
        }
      ]
    },
    {
      "cell_type": "markdown",
      "source": [
        "**4.2. Full Train and Test Data**"
      ],
      "metadata": {
        "id": "_6vYkcjYASDk"
      }
    },
    {
      "cell_type": "code",
      "source": [
        "xgb_cl = xgb.XGBClassifier(objective=\"binary:logistic\", \n",
        "                           learning_rate=0.27,\n",
        "                           n_estimators=5,\n",
        "                           max_depth=6\n",
        "                           )\n",
        "xgb_cl.fit(X_full_train, y_full_train)\n",
        "y_pred = xgb_cl.predict(X_test)\n",
        "auc_score = roc_auc_score(y_true=y_test.values, y_score=y_pred)\n",
        "print(auc_score*100)"
      ],
      "metadata": {
        "colab": {
          "base_uri": "https://localhost:8080/"
        },
        "id": "FH8WGYlgAVAT",
        "outputId": "4d232ceb-feed-487c-862a-f14716a4a066"
      },
      "execution_count": 125,
      "outputs": [
        {
          "output_type": "stream",
          "name": "stdout",
          "text": [
            "86.91388839365305\n"
          ]
        }
      ]
    },
    {
      "cell_type": "markdown",
      "source": [
        "**Confusion matrix**"
      ],
      "metadata": {
        "id": "ZkTkJVb8AYJM"
      }
    },
    {
      "cell_type": "code",
      "source": [
        "sns.heatmap(confusion_matrix(y_true=y_test, y_pred=y_pred), annot=True)\n",
        "plt.show()"
      ],
      "metadata": {
        "colab": {
          "base_uri": "https://localhost:8080/",
          "height": 268
        },
        "id": "UR4v-KzZAW7V",
        "outputId": "ef279916-d4fa-4c09-e3d5-5f24a71a1fab"
      },
      "execution_count": 126,
      "outputs": [
        {
          "output_type": "display_data",
          "data": {
            "text/plain": [
              "<Figure size 432x288 with 2 Axes>"
            ],
            "image/png": "[encoded data removed]"
          },
          "metadata": {}
        }
      ]
    },
    {
      "cell_type": "markdown",
      "source": [
        "**Classification Report**"
      ],
      "metadata": {
        "id": "8BHGdyjlAa14"
      }
    },
    {
      "cell_type": "code",
      "source": [
        "print(classification_report(y_true=y_test, y_pred=y_pred))"
      ],
      "metadata": {
        "id": "WwjyIgw5AdbI",
        "outputId": "cdf404de-72db-46c2-cdea-9f94198d0f4c",
        "colab": {
          "base_uri": "https://localhost:8080/"
        }
      },
      "execution_count": 127,
      "outputs": [
        {
          "output_type": "stream",
          "name": "stdout",
          "text": [
            "              precision    recall  f1-score   support\n",
            "\n",
            "           0       0.82      0.92      0.87        71\n",
            "           1       0.92      0.82      0.87        79\n",
            "\n",
            "    accuracy                           0.87       150\n",
            "   macro avg       0.87      0.87      0.87       150\n",
            "weighted avg       0.87      0.87      0.87       150\n",
            "\n"
          ]
        }
      ]
    },
    {
      "cell_type": "markdown",
      "source": [
        "**ROC Curve**"
      ],
      "metadata": {
        "id": "3zp52rlMAeeT"
      }
    },
    {
      "cell_type": "code",
      "source": [
        "plot_roc_curve(model=xgb_cl, \n",
        "               data1=(X_test, y_test), \n",
        "               data1_label=\"Test\",\n",
        "               data2=(X_full_train, y_full_train),\n",
        "               data2_label=\"Full Train\",\n",
        "               title=\"XGBClassifier ROC Curve\")"
      ],
      "metadata": {
        "id": "LHnRte0lAg1F",
        "outputId": "83c3551e-7a34-4761-cea6-e71095e7c3a9",
        "colab": {
          "base_uri": "https://localhost:8080/",
          "height": 301
        }
      },
      "execution_count": 128,
      "outputs": [
        {
          "output_type": "display_data",
          "data": {
            "text/plain": [
              "<Figure size 432x288 with 1 Axes>"
            ],
            "image/png": "[encoded data removed]"
          },
          "metadata": {}
        }
      ]
    },
    {
      "cell_type": "markdown",
      "source": [
        "#5. K Value Estimation"
      ],
      "metadata": {
        "id": "7_2Em26bGq5o"
      }
    },
    {
      "cell_type": "code",
      "source": [
        "from matplotlib import pyplot\n",
        "error_rate= []\n",
        "for i in range(1,40):\n",
        "    knn = KNeighborsClassifier(n_neighbors = i)\n",
        "    knn.fit(X_train,y_train)\n",
        "    pred_i = knn.predict(X_test)\n",
        "    error_rate.append(np.mean(pred_i != y_test))\n",
        "    print(i,np.mean(pred_i != y_test))"
      ],
      "metadata": {
        "colab": {
          "base_uri": "https://localhost:8080/"
        },
        "id": "f85ScHtQ7D_o",
        "outputId": "20fe8389-3674-4577-bc55-8f4c14bb9bb4"
      },
      "execution_count": 129,
      "outputs": [
        {
          "output_type": "stream",
          "name": "stdout",
          "text": [
            "1 0.22\n",
            "2 0.24666666666666667\n",
            "3 0.18\n",
            "4 0.21333333333333335\n",
            "5 0.15333333333333332\n",
            "6 0.16666666666666666\n",
            "7 0.17333333333333334\n",
            "8 0.18666666666666668\n",
            "9 0.17333333333333334\n",
            "10 0.22\n",
            "11 0.18\n",
            "12 0.20666666666666667\n",
            "13 0.18666666666666668\n",
            "14 0.19333333333333333\n",
            "15 0.2\n",
            "16 0.22666666666666666\n",
            "17 0.22\n",
            "18 0.22\n",
            "19 0.21333333333333335\n",
            "20 0.22\n",
            "21 0.22\n",
            "22 0.25333333333333335\n",
            "23 0.24\n",
            "24 0.26\n",
            "25 0.24666666666666667\n",
            "26 0.24666666666666667\n",
            "27 0.24\n",
            "28 0.24666666666666667\n",
            "29 0.23333333333333334\n",
            "30 0.26\n",
            "31 0.24\n",
            "32 0.24666666666666667\n",
            "33 0.24666666666666667\n",
            "34 0.24\n",
            "35 0.24\n",
            "36 0.24\n",
            "37 0.22666666666666666\n",
            "38 0.24\n",
            "39 0.24\n"
          ]
        }
      ]
    },
    {
      "cell_type": "code",
      "source": [
        "plt.figure(figsize = (10,6))\n",
        "plt.plot(range(1,40),error_rate,color = 'black',linestyle = '--',marker = 'o',markerfacecolor='red',markersize = 8)\n",
        "plt.title('Error Rate vs K')\n",
        "plt.xlabel('K')\n",
        "plt.ylabel('Error Rate')"
      ],
      "metadata": {
        "colab": {
          "base_uri": "https://localhost:8080/",
          "height": 427
        },
        "id": "aHo5qdO7GkcC",
        "outputId": "954dd880-c7a5-4f35-e8ac-3c20ff7d963c"
      },
      "execution_count": 130,
      "outputs": [
        {
          "output_type": "execute_result",
          "data": {
            "text/plain": [
              "Text(0, 0.5, 'Error Rate')"
            ]
          },
          "metadata": {},
          "execution_count": 130
        },
        {
          "output_type": "display_data",
          "data": {
            "text/plain": [
              "<Figure size 720x432 with 1 Axes>"
            ],
            "image/png": "[encoded data removed]"
          },
          "metadata": {}
        }
      ]
    },
    {
      "cell_type": "markdown",
      "source": [
        "#6. KNN Model"
      ],
      "metadata": {
        "id": "0idKmoOqG2P1"
      }
    },
    {
      "cell_type": "code",
      "source": [
        "classifier = KNeighborsClassifier(n_neighbors=36)\n",
        "classifier.fit(X_train, y_train)\n",
        "y_pred = classifier.predict(X_test)\n",
        "print(classification_report(y_test, y_pred))\n",
        "print('\\n')\n",
        "print('------------------------')\n",
        "print('Confusion Matrix')\n",
        "print('------------------------')\n",
        "print('')\n",
        "print(confusion_matrix(y_test, y_pred))\n",
        "plot_confusion_matrix(classifier, X_test, y_test,cmap=\"binary\") \n",
        "plt.grid(False)\n",
        "plt.show()"
      ],
      "metadata": {
        "colab": {
          "base_uri": "https://localhost:8080/",
          "height": 639
        },
        "id": "CoUoWk_oG5SV",
        "outputId": "f80d1b6d-40bd-4ef5-ca97-45181e369e87"
      },
      "execution_count": 131,
      "outputs": [
        {
          "output_type": "stream",
          "name": "stdout",
          "text": [
            "              precision    recall  f1-score   support\n",
            "\n",
            "           0       0.71      0.85      0.77        71\n",
            "           1       0.83      0.68      0.75        79\n",
            "\n",
            "    accuracy                           0.76       150\n",
            "   macro avg       0.77      0.76      0.76       150\n",
            "weighted avg       0.77      0.76      0.76       150\n",
            "\n",
            "\n",
            "\n",
            "------------------------\n",
            "Confusion Matrix\n",
            "------------------------\n",
            "\n",
            "[[60 11]\n",
            " [25 54]]\n"
          ]
        },
        {
          "output_type": "stream",
          "name": "stderr",
          "text": [
            "/usr/local/lib/python3.8/dist-packages/sklearn/utils/deprecation.py:87: FutureWarning: Function plot_confusion_matrix is deprecated; Function `plot_confusion_matrix` is deprecated in 1.0 and will be removed in 1.2. Use one of the class methods: ConfusionMatrixDisplay.from_predictions or ConfusionMatrixDisplay.from_estimator.\n",
            "  warnings.warn(msg, category=FutureWarning)\n"
          ]
        },
        {
          "output_type": "display_data",
          "data": {
            "text/plain": [
              "<Figure size 432x288 with 2 Axes>"
            ],
            "image/png": "[encoded data removed]"
          },
          "metadata": {}
        }
      ]
    },
    {
      "cell_type": "markdown",
      "source": [
        "#7. Support Vector Classifier"
      ],
      "metadata": {
        "id": "r0kXXWcvHSGd"
      }
    },
    {
      "cell_type": "code",
      "source": [
        "classifier = SVC(kernel='rbf', random_state=100)\n",
        "classifier.fit(X_train, y_train)\n",
        "y_pred = classifier.predict(X_test)\n",
        "print(classification_report(y_test, y_pred))\n",
        "print('\\n')\n",
        "print('------------------------')\n",
        "print('Confusion Matrix')\n",
        "print('------------------------')\n",
        "print('')\n",
        "print(confusion_matrix(y_test, y_pred))\n",
        "plot_confusion_matrix(classifier, X_test, y_test,cmap=\"binary\") \n",
        "plt.grid(False)\n",
        "plt.show()"
      ],
      "metadata": {
        "colab": {
          "base_uri": "https://localhost:8080/",
          "height": 635
        },
        "id": "4cP2O-bhHX3X",
        "outputId": "8dbeb0e1-76da-4bc9-c522-26a268a11685"
      },
      "execution_count": 143,
      "outputs": [
        {
          "output_type": "stream",
          "name": "stdout",
          "text": [
            "              precision    recall  f1-score   support\n",
            "\n",
            "           0       0.65      0.80      0.72        71\n",
            "           1       0.77      0.61      0.68        79\n",
            "\n",
            "    accuracy                           0.70       150\n",
            "   macro avg       0.71      0.71      0.70       150\n",
            "weighted avg       0.71      0.70      0.70       150\n",
            "\n",
            "\n",
            "\n",
            "------------------------\n",
            "Confusion Matrix\n",
            "------------------------\n",
            "\n",
            "[[57 14]\n",
            " [31 48]]\n"
          ]
        },
        {
          "output_type": "stream",
          "name": "stderr",
          "text": [
            "/usr/local/lib/python3.8/dist-packages/sklearn/utils/deprecation.py:87: FutureWarning: Function plot_confusion_matrix is deprecated; Function `plot_confusion_matrix` is deprecated in 1.0 and will be removed in 1.2. Use one of the class methods: ConfusionMatrixDisplay.from_predictions or ConfusionMatrixDisplay.from_estimator.\n",
            "  warnings.warn(msg, category=FutureWarning)\n"
          ]
        },
        {
          "output_type": "display_data",
          "data": {
            "text/plain": [
              "<Figure size 432x288 with 2 Axes>"
            ],
            "image/png": "[encoded data removed]"
          },
          "metadata": {}
        }
      ]
    },
    {
      "cell_type": "markdown",
      "source": [
        "# 8. Gradient Boosting Classifier"
      ],
      "metadata": {
        "id": "yFeDJJP2Hf6V"
      }
    },
    {
      "cell_type": "code",
      "source": [
        "from sklearn.ensemble import GradientBoostingClassifier\n",
        "clff = GradientBoostingClassifier(n_estimators=100, learning_rate=0.2, max_depth=1, random_state=23)\n",
        "clff.fit(X_train, y_train)\n",
        "y_pred=clff.predict(X_test)\n",
        "print(classification_report(y_test, y_pred))\n",
        "print('')\n",
        "print('------------------------')\n",
        "print('Confusion Matrix')\n",
        "print('------------------------')\n",
        "print('')\n",
        "print(confusion_matrix(y_test, y_pred))\n",
        "plot_confusion_matrix(clff, X_test, y_test,cmap=\"binary\") \n",
        "plt.grid(False)\n",
        "plt.show()"
      ],
      "metadata": {
        "colab": {
          "base_uri": "https://localhost:8080/",
          "height": 621
        },
        "id": "M9hPCtFxHj0T",
        "outputId": "d59082ba-232e-4715-ffa1-0d559eab7cce"
      },
      "execution_count": 133,
      "outputs": [
        {
          "output_type": "stream",
          "name": "stdout",
          "text": [
            "              precision    recall  f1-score   support\n",
            "\n",
            "           0       0.88      0.92      0.90        71\n",
            "           1       0.92      0.89      0.90        79\n",
            "\n",
            "    accuracy                           0.90       150\n",
            "   macro avg       0.90      0.90      0.90       150\n",
            "weighted avg       0.90      0.90      0.90       150\n",
            "\n",
            "\n",
            "------------------------\n",
            "Confusion Matrix\n",
            "------------------------\n",
            "\n",
            "[[65  6]\n",
            " [ 9 70]]\n"
          ]
        },
        {
          "output_type": "stream",
          "name": "stderr",
          "text": [
            "/usr/local/lib/python3.8/dist-packages/sklearn/utils/deprecation.py:87: FutureWarning: Function plot_confusion_matrix is deprecated; Function `plot_confusion_matrix` is deprecated in 1.0 and will be removed in 1.2. Use one of the class methods: ConfusionMatrixDisplay.from_predictions or ConfusionMatrixDisplay.from_estimator.\n",
            "  warnings.warn(msg, category=FutureWarning)\n"
          ]
        },
        {
          "output_type": "display_data",
          "data": {
            "text/plain": [
              "<Figure size 432x288 with 2 Axes>"
            ],
            "image/png": "[encoded data removed]"
          },
          "metadata": {}
        }
      ]
    },
    {
      "cell_type": "markdown",
      "source": [
        "# 9. Naive Bayes Algorithm"
      ],
      "metadata": {
        "id": "mFA6U3QkrU6A"
      }
    },
    {
      "cell_type": "code",
      "source": [
        "from sklearn.naive_bayes import GaussianNB\n",
        "\n",
        "nb = GaussianNB()\n",
        "\n",
        "nb.fit(X_train,y_train)\n",
        "\n",
        "Y_pred_nb = nb.predict(X_test)"
      ],
      "metadata": {
        "id": "MOhLXU7FqjaG"
      },
      "execution_count": 134,
      "outputs": []
    },
    {
      "cell_type": "code",
      "source": [
        "Y_pred_nb.shape"
      ],
      "metadata": {
        "colab": {
          "base_uri": "https://localhost:8080/"
        },
        "id": "CKVNPJRcrBCl",
        "outputId": "fac1132b-222f-48ce-affe-f6507c754d1b"
      },
      "execution_count": 135,
      "outputs": [
        {
          "output_type": "execute_result",
          "data": {
            "text/plain": [
              "(150,)"
            ]
          },
          "metadata": {},
          "execution_count": 135
        }
      ]
    },
    {
      "cell_type": "code",
      "source": [
        "score_nb = round(accuracy_score(Y_pred_nb,y_test)*100,2)\n",
        "\n",
        "print(\"The accuracy score achieved using Naive Bayes is: \"+str(score_nb)+\" %\")"
      ],
      "metadata": {
        "colab": {
          "base_uri": "https://localhost:8080/"
        },
        "id": "6KhQMLBjrEY6",
        "outputId": "2cb6603c-c326-47e3-d53c-b3b47df52782"
      },
      "execution_count": 136,
      "outputs": [
        {
          "output_type": "stream",
          "name": "stdout",
          "text": [
            "The accuracy score achieved using Naive Bayes is: 82.67 %\n"
          ]
        }
      ]
    }
  ]
}